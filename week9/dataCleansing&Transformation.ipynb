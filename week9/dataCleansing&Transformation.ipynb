{
 "cells": [
  {
   "cell_type": "code",
   "execution_count": 1,
   "id": "63f9a65e",
   "metadata": {},
   "outputs": [],
   "source": [
    "import numpy as np\n",
    "import pandas as pd\n",
    "import seaborn as sns\n",
    "import matplotlib.pyplot as plt\n",
    "import sklearn\n",
    "import datetime\n",
    "from sklearn.decomposition import PCA\n",
    "from sklearn.preprocessing import StandardScaler"
   ]
  },
  {
   "cell_type": "code",
   "execution_count": 2,
   "id": "1b60ee76",
   "metadata": {},
   "outputs": [
    {
     "name": "stderr",
     "output_type": "stream",
     "text": [
      "/tmp/ipykernel_12075/325118354.py:1: DtypeWarning: Columns (16) have mixed types. Specify dtype option on import or set low_memory=False.\n",
      "  cust_seg = pd.read_csv(\"cust_seg.csv\")\n"
     ]
    }
   ],
   "source": [
    "cust_seg = pd.read_csv(\"cust_seg.csv\")"
   ]
  },
  {
   "cell_type": "code",
   "execution_count": 3,
   "id": "9cfddc26",
   "metadata": {
    "scrolled": false
   },
   "outputs": [
    {
     "data": {
      "text/html": [
       "<div>\n",
       "<style scoped>\n",
       "    .dataframe tbody tr th:only-of-type {\n",
       "        vertical-align: middle;\n",
       "    }\n",
       "\n",
       "    .dataframe tbody tr th {\n",
       "        vertical-align: top;\n",
       "    }\n",
       "\n",
       "    .dataframe thead th {\n",
       "        text-align: right;\n",
       "    }\n",
       "</style>\n",
       "<table border=\"1\" class=\"dataframe\">\n",
       "  <thead>\n",
       "    <tr style=\"text-align: right;\">\n",
       "      <th></th>\n",
       "      <th>Unnamed: 0</th>\n",
       "      <th>fecha_dato</th>\n",
       "      <th>ncodpers</th>\n",
       "      <th>ind_empleado</th>\n",
       "      <th>pais_residencia</th>\n",
       "      <th>sexo</th>\n",
       "      <th>age</th>\n",
       "      <th>fecha_alta</th>\n",
       "      <th>ind_nuevo</th>\n",
       "      <th>antiguedad</th>\n",
       "      <th>...</th>\n",
       "      <th>ind_hip_fin_ult1</th>\n",
       "      <th>ind_plan_fin_ult1</th>\n",
       "      <th>ind_pres_fin_ult1</th>\n",
       "      <th>ind_reca_fin_ult1</th>\n",
       "      <th>ind_tjcr_fin_ult1</th>\n",
       "      <th>ind_valo_fin_ult1</th>\n",
       "      <th>ind_viv_fin_ult1</th>\n",
       "      <th>ind_nomina_ult1</th>\n",
       "      <th>ind_nom_pens_ult1</th>\n",
       "      <th>ind_recibo_ult1</th>\n",
       "    </tr>\n",
       "  </thead>\n",
       "  <tbody>\n",
       "    <tr>\n",
       "      <th>0</th>\n",
       "      <td>0</td>\n",
       "      <td>2015-01-28</td>\n",
       "      <td>1375586</td>\n",
       "      <td>N</td>\n",
       "      <td>ES</td>\n",
       "      <td>H</td>\n",
       "      <td>35</td>\n",
       "      <td>2015-01-12</td>\n",
       "      <td>0.0</td>\n",
       "      <td>6</td>\n",
       "      <td>...</td>\n",
       "      <td>0</td>\n",
       "      <td>0</td>\n",
       "      <td>0</td>\n",
       "      <td>0</td>\n",
       "      <td>0</td>\n",
       "      <td>0</td>\n",
       "      <td>0</td>\n",
       "      <td>0.0</td>\n",
       "      <td>0.0</td>\n",
       "      <td>0</td>\n",
       "    </tr>\n",
       "    <tr>\n",
       "      <th>1</th>\n",
       "      <td>1</td>\n",
       "      <td>2015-01-28</td>\n",
       "      <td>1050611</td>\n",
       "      <td>N</td>\n",
       "      <td>ES</td>\n",
       "      <td>V</td>\n",
       "      <td>23</td>\n",
       "      <td>2012-08-10</td>\n",
       "      <td>0.0</td>\n",
       "      <td>35</td>\n",
       "      <td>...</td>\n",
       "      <td>0</td>\n",
       "      <td>0</td>\n",
       "      <td>0</td>\n",
       "      <td>0</td>\n",
       "      <td>0</td>\n",
       "      <td>0</td>\n",
       "      <td>0</td>\n",
       "      <td>0.0</td>\n",
       "      <td>0.0</td>\n",
       "      <td>0</td>\n",
       "    </tr>\n",
       "    <tr>\n",
       "      <th>2</th>\n",
       "      <td>2</td>\n",
       "      <td>2015-01-28</td>\n",
       "      <td>1050612</td>\n",
       "      <td>N</td>\n",
       "      <td>ES</td>\n",
       "      <td>V</td>\n",
       "      <td>23</td>\n",
       "      <td>2012-08-10</td>\n",
       "      <td>0.0</td>\n",
       "      <td>35</td>\n",
       "      <td>...</td>\n",
       "      <td>0</td>\n",
       "      <td>0</td>\n",
       "      <td>0</td>\n",
       "      <td>0</td>\n",
       "      <td>0</td>\n",
       "      <td>0</td>\n",
       "      <td>0</td>\n",
       "      <td>0.0</td>\n",
       "      <td>0.0</td>\n",
       "      <td>0</td>\n",
       "    </tr>\n",
       "    <tr>\n",
       "      <th>3</th>\n",
       "      <td>3</td>\n",
       "      <td>2015-01-28</td>\n",
       "      <td>1050613</td>\n",
       "      <td>N</td>\n",
       "      <td>ES</td>\n",
       "      <td>H</td>\n",
       "      <td>22</td>\n",
       "      <td>2012-08-10</td>\n",
       "      <td>0.0</td>\n",
       "      <td>35</td>\n",
       "      <td>...</td>\n",
       "      <td>0</td>\n",
       "      <td>0</td>\n",
       "      <td>0</td>\n",
       "      <td>0</td>\n",
       "      <td>0</td>\n",
       "      <td>0</td>\n",
       "      <td>0</td>\n",
       "      <td>0.0</td>\n",
       "      <td>0.0</td>\n",
       "      <td>0</td>\n",
       "    </tr>\n",
       "    <tr>\n",
       "      <th>4</th>\n",
       "      <td>4</td>\n",
       "      <td>2015-01-28</td>\n",
       "      <td>1050614</td>\n",
       "      <td>N</td>\n",
       "      <td>ES</td>\n",
       "      <td>V</td>\n",
       "      <td>23</td>\n",
       "      <td>2012-08-10</td>\n",
       "      <td>0.0</td>\n",
       "      <td>35</td>\n",
       "      <td>...</td>\n",
       "      <td>0</td>\n",
       "      <td>0</td>\n",
       "      <td>0</td>\n",
       "      <td>0</td>\n",
       "      <td>0</td>\n",
       "      <td>0</td>\n",
       "      <td>0</td>\n",
       "      <td>0.0</td>\n",
       "      <td>0.0</td>\n",
       "      <td>0</td>\n",
       "    </tr>\n",
       "  </tbody>\n",
       "</table>\n",
       "<p>5 rows × 48 columns</p>\n",
       "</div>"
      ],
      "text/plain": [
       "   Unnamed: 0  fecha_dato  ncodpers ind_empleado pais_residencia sexo  age  \\\n",
       "0           0  2015-01-28   1375586            N              ES    H   35   \n",
       "1           1  2015-01-28   1050611            N              ES    V   23   \n",
       "2           2  2015-01-28   1050612            N              ES    V   23   \n",
       "3           3  2015-01-28   1050613            N              ES    H   22   \n",
       "4           4  2015-01-28   1050614            N              ES    V   23   \n",
       "\n",
       "   fecha_alta  ind_nuevo antiguedad  ...  ind_hip_fin_ult1 ind_plan_fin_ult1  \\\n",
       "0  2015-01-12        0.0          6  ...                 0                 0   \n",
       "1  2012-08-10        0.0         35  ...                 0                 0   \n",
       "2  2012-08-10        0.0         35  ...                 0                 0   \n",
       "3  2012-08-10        0.0         35  ...                 0                 0   \n",
       "4  2012-08-10        0.0         35  ...                 0                 0   \n",
       "\n",
       "   ind_pres_fin_ult1 ind_reca_fin_ult1 ind_tjcr_fin_ult1 ind_valo_fin_ult1  \\\n",
       "0                  0                 0                 0                 0   \n",
       "1                  0                 0                 0                 0   \n",
       "2                  0                 0                 0                 0   \n",
       "3                  0                 0                 0                 0   \n",
       "4                  0                 0                 0                 0   \n",
       "\n",
       "  ind_viv_fin_ult1 ind_nomina_ult1 ind_nom_pens_ult1  ind_recibo_ult1  \n",
       "0                0             0.0               0.0                0  \n",
       "1                0             0.0               0.0                0  \n",
       "2                0             0.0               0.0                0  \n",
       "3                0             0.0               0.0                0  \n",
       "4                0             0.0               0.0                0  \n",
       "\n",
       "[5 rows x 48 columns]"
      ]
     },
     "execution_count": 3,
     "metadata": {},
     "output_type": "execute_result"
    }
   ],
   "source": [
    "cust_seg.head()"
   ]
  },
  {
   "cell_type": "code",
   "execution_count": 4,
   "id": "6adf52cf",
   "metadata": {},
   "outputs": [
    {
     "name": "stdout",
     "output_type": "stream",
     "text": [
      "<class 'pandas.core.frame.DataFrame'>\n",
      "RangeIndex: 1000000 entries, 0 to 999999\n",
      "Data columns (total 48 columns):\n",
      " #   Column                 Non-Null Count    Dtype  \n",
      "---  ------                 --------------    -----  \n",
      " 0   Unnamed: 0             1000000 non-null  int64  \n",
      " 1   fecha_dato             1000000 non-null  object \n",
      " 2   ncodpers               1000000 non-null  int64  \n",
      " 3   ind_empleado           989218 non-null   object \n",
      " 4   pais_residencia        989218 non-null   object \n",
      " 5   sexo                   989214 non-null   object \n",
      " 6   age                    1000000 non-null  object \n",
      " 7   fecha_alta             989218 non-null   object \n",
      " 8   ind_nuevo              989218 non-null   float64\n",
      " 9   antiguedad             1000000 non-null  object \n",
      " 10  indrel                 989218 non-null   float64\n",
      " 11  ult_fec_cli_1t         1101 non-null     object \n",
      " 12  indrel_1mes            989218 non-null   float64\n",
      " 13  tiprel_1mes            989218 non-null   object \n",
      " 14  indresi                989218 non-null   object \n",
      " 15  indext                 989218 non-null   object \n",
      " 16  conyuemp               178 non-null      object \n",
      " 17  canal_entrada          989139 non-null   object \n",
      " 18  indfall                989218 non-null   object \n",
      " 19  tipodom                989218 non-null   float64\n",
      " 20  cod_prov               982266 non-null   float64\n",
      " 21  nomprov                982266 non-null   object \n",
      " 22  ind_actividad_cliente  989218 non-null   float64\n",
      " 23  renta                  824817 non-null   float64\n",
      " 24  ind_ahor_fin_ult1      1000000 non-null  int64  \n",
      " 25  ind_aval_fin_ult1      1000000 non-null  int64  \n",
      " 26  ind_cco_fin_ult1       1000000 non-null  int64  \n",
      " 27  ind_cder_fin_ult1      1000000 non-null  int64  \n",
      " 28  ind_cno_fin_ult1       1000000 non-null  int64  \n",
      " 29  ind_ctju_fin_ult1      1000000 non-null  int64  \n",
      " 30  ind_ctma_fin_ult1      1000000 non-null  int64  \n",
      " 31  ind_ctop_fin_ult1      1000000 non-null  int64  \n",
      " 32  ind_ctpp_fin_ult1      1000000 non-null  int64  \n",
      " 33  ind_deco_fin_ult1      1000000 non-null  int64  \n",
      " 34  ind_deme_fin_ult1      1000000 non-null  int64  \n",
      " 35  ind_dela_fin_ult1      1000000 non-null  int64  \n",
      " 36  ind_ecue_fin_ult1      1000000 non-null  int64  \n",
      " 37  ind_fond_fin_ult1      1000000 non-null  int64  \n",
      " 38  ind_hip_fin_ult1       1000000 non-null  int64  \n",
      " 39  ind_plan_fin_ult1      1000000 non-null  int64  \n",
      " 40  ind_pres_fin_ult1      1000000 non-null  int64  \n",
      " 41  ind_reca_fin_ult1      1000000 non-null  int64  \n",
      " 42  ind_tjcr_fin_ult1      1000000 non-null  int64  \n",
      " 43  ind_valo_fin_ult1      1000000 non-null  int64  \n",
      " 44  ind_viv_fin_ult1       1000000 non-null  int64  \n",
      " 45  ind_nomina_ult1        994598 non-null   float64\n",
      " 46  ind_nom_pens_ult1      994598 non-null   float64\n",
      " 47  ind_recibo_ult1        1000000 non-null  int64  \n",
      "dtypes: float64(9), int64(24), object(15)\n",
      "memory usage: 366.2+ MB\n"
     ]
    }
   ],
   "source": [
    "cust_seg.info()"
   ]
  },
  {
   "cell_type": "code",
   "execution_count": 5,
   "id": "6248e7ef",
   "metadata": {},
   "outputs": [],
   "source": [
    "#let's drop the unnamed column\n",
    "cust_seg.drop([\"Unnamed: 0\"],axis=1,inplace=True)"
   ]
  },
  {
   "cell_type": "code",
   "execution_count": 6,
   "id": "296dbcaf",
   "metadata": {},
   "outputs": [],
   "source": [
    "#let's drop the cod_prov column\n",
    "cust_seg.drop([\"cod_prov\"],axis=1, inplace=True)"
   ]
  },
  {
   "cell_type": "code",
   "execution_count": 7,
   "id": "437d4957",
   "metadata": {},
   "outputs": [],
   "source": [
    "#let's drop the ncodpers column\n",
    "cust_seg.drop([\"ncodpers\"],axis=1,inplace=True)"
   ]
  },
  {
   "cell_type": "code",
   "execution_count": 8,
   "id": "1dcd2aa7",
   "metadata": {},
   "outputs": [
    {
     "data": {
      "text/plain": [
       "0.0"
      ]
     },
     "execution_count": 8,
     "metadata": {},
     "output_type": "execute_result"
    }
   ],
   "source": [
    "cust_seg['ind_nuevo'].mode()[0]"
   ]
  },
  {
   "cell_type": "code",
   "execution_count": null,
   "id": "d050f59e",
   "metadata": {},
   "outputs": [],
   "source": []
  },
  {
   "cell_type": "code",
   "execution_count": 9,
   "id": "4ac4920c",
   "metadata": {},
   "outputs": [
    {
     "data": {
      "text/plain": [
       "array([' 35', ' 23', ' 22', ' 24', ' 65', ' 28', ' 25', ' 26', ' 53',\n",
       "       ' 27', ' 32', ' 37', ' 31', ' 39', ' 63', ' 33', ' 55', ' 42',\n",
       "       ' 58', ' 38', ' 50', ' 30', ' 45', ' 44', ' 36', ' 29', ' 60',\n",
       "       ' 57', ' 67', ' 47', ' NA', ' 34', ' 48', ' 46', ' 54', ' 84',\n",
       "       ' 15', ' 12', '  8', '  6', ' 83', ' 40', ' 77', ' 69', ' 52',\n",
       "       ' 59', ' 43', ' 10', '  9', ' 49', ' 41', ' 51', ' 78', ' 16',\n",
       "       ' 11', ' 73', ' 62', ' 66', ' 17', ' 68', ' 82', ' 95', ' 96',\n",
       "       ' 56', ' 61', ' 79', ' 72', ' 14', ' 19', ' 13', ' 86', ' 64',\n",
       "       ' 20', ' 89', ' 71', '  7', ' 70', ' 74', ' 21', ' 18', ' 75',\n",
       "       '  4', ' 80', ' 81', '  5', ' 76', ' 92', ' 93', ' 85', ' 91',\n",
       "       ' 87', ' 90', ' 94', ' 99', ' 98', ' 88', ' 97', '100', '101',\n",
       "       '106', '103', '  3', '  2', '102', '104', '111', '107', '109',\n",
       "       '105', '112', '115', '110', '116', '108', '113'], dtype=object)"
      ]
     },
     "execution_count": 9,
     "metadata": {},
     "output_type": "execute_result"
    }
   ],
   "source": [
    "cust_seg['age'].unique() #taxes"
   ]
  },
  {
   "cell_type": "code",
   "execution_count": 10,
   "id": "bb9e5587",
   "metadata": {},
   "outputs": [
    {
     "data": {
      "text/plain": [
       "array([ 1., nan])"
      ]
     },
     "execution_count": 10,
     "metadata": {},
     "output_type": "execute_result"
    }
   ],
   "source": [
    "cust_seg['tipodom'].unique() #taxes"
   ]
  },
  {
   "cell_type": "code",
   "execution_count": 11,
   "id": "03787b45",
   "metadata": {},
   "outputs": [],
   "source": [
    "#drop tipodom column because it has only value 1 \n",
    "cust_seg.drop(['tipodom'],axis=1,inplace=True)"
   ]
  },
  {
   "cell_type": "code",
   "execution_count": 12,
   "id": "6df56714",
   "metadata": {},
   "outputs": [
    {
     "data": {
      "text/plain": [
       "array([0, 1])"
      ]
     },
     "execution_count": 12,
     "metadata": {},
     "output_type": "execute_result"
    }
   ],
   "source": [
    "cust_seg['ind_reca_fin_ult1'].unique() #taxes"
   ]
  },
  {
   "cell_type": "code",
   "execution_count": 13,
   "id": "b33a6ac2",
   "metadata": {},
   "outputs": [
    {
     "data": {
      "text/plain": [
       "1.0"
      ]
     },
     "execution_count": 13,
     "metadata": {},
     "output_type": "execute_result"
    }
   ],
   "source": [
    "cust_seg['indrel'].mode()[0] #taxes"
   ]
  },
  {
   "cell_type": "code",
   "execution_count": 14,
   "id": "6d62eebe",
   "metadata": {},
   "outputs": [
    {
     "data": {
      "text/plain": [
       "1.0"
      ]
     },
     "execution_count": 14,
     "metadata": {},
     "output_type": "execute_result"
    }
   ],
   "source": [
    "cust_seg['indrel_1mes'].mode()[0] #taxes"
   ]
  },
  {
   "cell_type": "code",
   "execution_count": 15,
   "id": "a78fcb2a",
   "metadata": {},
   "outputs": [
    {
     "data": {
      "text/plain": [
       "0.0"
      ]
     },
     "execution_count": 15,
     "metadata": {},
     "output_type": "execute_result"
    }
   ],
   "source": [
    "cust_seg['ind_nomina_ult1'].unique() \n",
    "cust_seg['ind_nomina_ult1'].mode()[0] \n"
   ]
  },
  {
   "cell_type": "code",
   "execution_count": 16,
   "id": "1f986498",
   "metadata": {},
   "outputs": [
    {
     "data": {
      "text/plain": [
       "0.0"
      ]
     },
     "execution_count": 16,
     "metadata": {},
     "output_type": "execute_result"
    }
   ],
   "source": [
    "cust_seg['ind_nom_pens_ult1'].mode()[0]\n"
   ]
  },
  {
   "cell_type": "markdown",
   "id": "226cd7f5",
   "metadata": {},
   "source": [
    "### Missing Values"
   ]
  },
  {
   "cell_type": "code",
   "execution_count": 17,
   "id": "5be6419b",
   "metadata": {},
   "outputs": [
    {
     "data": {
      "text/plain": [
       "<AxesSubplot:>"
      ]
     },
     "execution_count": 17,
     "metadata": {},
     "output_type": "execute_result"
    },
    {
     "data": {
      "image/png": "[encoded data removed]",
      "text/plain": [
       "<Figure size 432x288 with 1 Axes>"
      ]
     },
     "metadata": {
      "needs_background": "light"
     },
     "output_type": "display_data"
    }
   ],
   "source": [
    "sns.heatmap(cust_seg.isnull(),yticklabels=False, cbar=False, cmap=\"Blues\")"
   ]
  },
  {
   "cell_type": "code",
   "execution_count": 18,
   "id": "9fb36435",
   "metadata": {
    "scrolled": false
   },
   "outputs": [
    {
     "data": {
      "text/plain": [
       "fecha_dato                    0\n",
       "ind_empleado              10782\n",
       "pais_residencia           10782\n",
       "sexo                      10786\n",
       "age                           0\n",
       "fecha_alta                10782\n",
       "ind_nuevo                 10782\n",
       "antiguedad                    0\n",
       "indrel                    10782\n",
       "ult_fec_cli_1t           998899\n",
       "indrel_1mes               10782\n",
       "tiprel_1mes               10782\n",
       "indresi                   10782\n",
       "indext                    10782\n",
       "conyuemp                 999822\n",
       "canal_entrada             10861\n",
       "indfall                   10782\n",
       "nomprov                   17734\n",
       "ind_actividad_cliente     10782\n",
       "renta                    175183\n",
       "ind_ahor_fin_ult1             0\n",
       "ind_aval_fin_ult1             0\n",
       "ind_cco_fin_ult1              0\n",
       "ind_cder_fin_ult1             0\n",
       "ind_cno_fin_ult1              0\n",
       "ind_ctju_fin_ult1             0\n",
       "ind_ctma_fin_ult1             0\n",
       "ind_ctop_fin_ult1             0\n",
       "ind_ctpp_fin_ult1             0\n",
       "ind_deco_fin_ult1             0\n",
       "ind_deme_fin_ult1             0\n",
       "ind_dela_fin_ult1             0\n",
       "ind_ecue_fin_ult1             0\n",
       "ind_fond_fin_ult1             0\n",
       "ind_hip_fin_ult1              0\n",
       "ind_plan_fin_ult1             0\n",
       "ind_pres_fin_ult1             0\n",
       "ind_reca_fin_ult1             0\n",
       "ind_tjcr_fin_ult1             0\n",
       "ind_valo_fin_ult1             0\n",
       "ind_viv_fin_ult1              0\n",
       "ind_nomina_ult1            5402\n",
       "ind_nom_pens_ult1          5402\n",
       "ind_recibo_ult1               0\n",
       "dtype: int64"
      ]
     },
     "execution_count": 18,
     "metadata": {},
     "output_type": "execute_result"
    }
   ],
   "source": [
    "cust_seg.isnull().sum()"
   ]
  },
  {
   "cell_type": "code",
   "execution_count": 19,
   "id": "72bf90a3",
   "metadata": {},
   "outputs": [],
   "source": [
    "#drop all variables that have more than 80% of the data missing (conyuemp,ult_fec_cli_1t)\n",
    "\n",
    "#let's drop the column ult_fec_cli_1t with 998899 missing values \n",
    "cust_seg.drop(['ult_fec_cli_1t'],axis=1,inplace=True)\n",
    "#let's drop the column conyuemp  wtih 999822 missing values \n",
    "cust_seg.drop(['conyuemp'],axis=1,inplace=True)\n",
    "#let's drop the column of fecha_dato\n",
    "cust_seg.drop(['fecha_dato'], axis=1, inplace=True)"
   ]
  },
  {
   "cell_type": "code",
   "execution_count": 20,
   "id": "55f01c54",
   "metadata": {},
   "outputs": [
    {
     "data": {
      "text/plain": [
       "357802"
      ]
     },
     "execution_count": 20,
     "metadata": {},
     "output_type": "execute_result"
    }
   ],
   "source": [
    "#let's see if there is any duplicated row\n",
    "cust_seg.duplicated().sum()"
   ]
  },
  {
   "cell_type": "code",
   "execution_count": 21,
   "id": "9c26a96a",
   "metadata": {},
   "outputs": [],
   "source": [
    "#let's remove the duplicated rows\n",
    "cust_seg.drop_duplicates(inplace=True)"
   ]
  },
  {
   "cell_type": "code",
   "execution_count": 22,
   "id": "1f2807f7",
   "metadata": {},
   "outputs": [
    {
     "data": {
      "text/plain": [
       "0"
      ]
     },
     "execution_count": 22,
     "metadata": {},
     "output_type": "execute_result"
    }
   ],
   "source": [
    "cust_seg.duplicated().sum()"
   ]
  },
  {
   "cell_type": "code",
   "execution_count": 24,
   "id": "7625ee74",
   "metadata": {},
   "outputs": [],
   "source": [
    "#let's replace the missing values in the categrocial colums except the date #'age(int)'#'antiguedad'(int/float)\n",
    "categrocial_list=['indresi','pais_residencia','nomprov', 'tiprel_1mes', 'indext', 'sexo','ind_empleado',\n",
    "                  'canal_entrada','indfall']\n",
    "for i in categrocial_list:\n",
    "    cust_seg.loc[(cust_seg[i].isnull()==True),i]= cust_seg[i].mode()[0]"
   ]
  },
  {
   "cell_type": "code",
   "execution_count": 25,
   "id": "8f23b3a2",
   "metadata": {},
   "outputs": [],
   "source": [
    "#replace the missing vlues in \"renta\" column with mean()\n",
    "cust_seg[\"renta\"] = cust_seg[\"renta\"].fillna(cust_seg[\"renta\"].mean())\n",
    "\n"
   ]
  },
  {
   "cell_type": "code",
   "execution_count": 26,
   "id": "f2bdb4a1",
   "metadata": {},
   "outputs": [],
   "source": [
    "cust_seg['ind_nomina_ult1'] = cust_seg['ind_nomina_ult1'].fillna(cust_seg['ind_nomina_ult1'].mode()[0])\n",
    "cust_seg['ind_nom_pens_ult1'] = cust_seg['ind_nom_pens_ult1'].fillna(cust_seg['ind_nom_pens_ult1'].mode()[0])\n",
    "cust_seg['ind_nuevo'] = cust_seg['ind_nuevo'].fillna(cust_seg['ind_nuevo'].mode()[0])\n",
    "cust_seg['ind_actividad_cliente'] = cust_seg['ind_actividad_cliente'].fillna(cust_seg['ind_actividad_cliente'].mode()[0])\n",
    "\n",
    "\n"
   ]
  },
  {
   "cell_type": "code",
   "execution_count": 27,
   "id": "4b7eec93",
   "metadata": {},
   "outputs": [],
   "source": [
    "cust_seg.loc[(cust_seg[\"indrel\"].isnull()==True),\"indrel\"]= cust_seg[\"indrel\"].mode()[0]\n",
    "cust_seg.loc[(cust_seg[\"indrel_1mes\"].isnull()==True),\"indrel_1mes\"]= cust_seg[\"indrel_1mes\"].mode()[0]\n",
    "\n"
   ]
  },
  {
   "cell_type": "code",
   "execution_count": 28,
   "id": "dc34a8ee",
   "metadata": {
    "scrolled": true
   },
   "outputs": [
    {
     "data": {
      "text/plain": [
       "ind_empleado               0\n",
       "pais_residencia            0\n",
       "sexo                       0\n",
       "age                        0\n",
       "fecha_alta               206\n",
       "ind_nuevo                  0\n",
       "antiguedad                 0\n",
       "indrel                     0\n",
       "indrel_1mes                0\n",
       "tiprel_1mes                0\n",
       "indresi                    0\n",
       "indext                     0\n",
       "canal_entrada              0\n",
       "indfall                    0\n",
       "nomprov                    0\n",
       "ind_actividad_cliente      0\n",
       "renta                      0\n",
       "ind_ahor_fin_ult1          0\n",
       "ind_aval_fin_ult1          0\n",
       "ind_cco_fin_ult1           0\n",
       "ind_cder_fin_ult1          0\n",
       "ind_cno_fin_ult1           0\n",
       "ind_ctju_fin_ult1          0\n",
       "ind_ctma_fin_ult1          0\n",
       "ind_ctop_fin_ult1          0\n",
       "ind_ctpp_fin_ult1          0\n",
       "ind_deco_fin_ult1          0\n",
       "ind_deme_fin_ult1          0\n",
       "ind_dela_fin_ult1          0\n",
       "ind_ecue_fin_ult1          0\n",
       "ind_fond_fin_ult1          0\n",
       "ind_hip_fin_ult1           0\n",
       "ind_plan_fin_ult1          0\n",
       "ind_pres_fin_ult1          0\n",
       "ind_reca_fin_ult1          0\n",
       "ind_tjcr_fin_ult1          0\n",
       "ind_valo_fin_ult1          0\n",
       "ind_viv_fin_ult1           0\n",
       "ind_nomina_ult1            0\n",
       "ind_nom_pens_ult1          0\n",
       "ind_recibo_ult1            0\n",
       "dtype: int64"
      ]
     },
     "execution_count": 28,
     "metadata": {},
     "output_type": "execute_result"
    }
   ],
   "source": [
    "cust_seg.isnull().sum()"
   ]
  },
  {
   "cell_type": "code",
   "execution_count": 29,
   "id": "37523f29",
   "metadata": {},
   "outputs": [],
   "source": [
    "#finally we can drop the 338 rows with missing dates fecha_alta\n",
    "cust_seg=cust_seg.dropna()"
   ]
  },
  {
   "cell_type": "code",
   "execution_count": 30,
   "id": "c1baea88",
   "metadata": {},
   "outputs": [
    {
     "data": {
      "text/plain": [
       "ind_empleado             0\n",
       "pais_residencia          0\n",
       "sexo                     0\n",
       "age                      0\n",
       "fecha_alta               0\n",
       "ind_nuevo                0\n",
       "antiguedad               0\n",
       "indrel                   0\n",
       "indrel_1mes              0\n",
       "tiprel_1mes              0\n",
       "indresi                  0\n",
       "indext                   0\n",
       "canal_entrada            0\n",
       "indfall                  0\n",
       "nomprov                  0\n",
       "ind_actividad_cliente    0\n",
       "renta                    0\n",
       "ind_ahor_fin_ult1        0\n",
       "ind_aval_fin_ult1        0\n",
       "ind_cco_fin_ult1         0\n",
       "ind_cder_fin_ult1        0\n",
       "ind_cno_fin_ult1         0\n",
       "ind_ctju_fin_ult1        0\n",
       "ind_ctma_fin_ult1        0\n",
       "ind_ctop_fin_ult1        0\n",
       "ind_ctpp_fin_ult1        0\n",
       "ind_deco_fin_ult1        0\n",
       "ind_deme_fin_ult1        0\n",
       "ind_dela_fin_ult1        0\n",
       "ind_ecue_fin_ult1        0\n",
       "ind_fond_fin_ult1        0\n",
       "ind_hip_fin_ult1         0\n",
       "ind_plan_fin_ult1        0\n",
       "ind_pres_fin_ult1        0\n",
       "ind_reca_fin_ult1        0\n",
       "ind_tjcr_fin_ult1        0\n",
       "ind_valo_fin_ult1        0\n",
       "ind_viv_fin_ult1         0\n",
       "ind_nomina_ult1          0\n",
       "ind_nom_pens_ult1        0\n",
       "ind_recibo_ult1          0\n",
       "dtype: int64"
      ]
     },
     "execution_count": 30,
     "metadata": {},
     "output_type": "execute_result"
    }
   ],
   "source": [
    "cust_seg.isnull().sum()"
   ]
  },
  {
   "cell_type": "code",
   "execution_count": 31,
   "id": "2237242b",
   "metadata": {},
   "outputs": [],
   "source": [
    "cust_seg.to_csv(\"cust_cleaned.csv\",index=False)"
   ]
  },
  {
   "cell_type": "code",
   "execution_count": 32,
   "id": "7cacba76",
   "metadata": {},
   "outputs": [],
   "source": [
    "cust_cleaned = pd.read_csv(\"cust_cleaned.csv\")"
   ]
  },
  {
   "cell_type": "markdown",
   "id": "d5074ea4",
   "metadata": {},
   "source": [
    "## Finishing Handeling missing values"
   ]
  },
  {
   "cell_type": "markdown",
   "id": "e1511ef2",
   "metadata": {},
   "source": [
    "### features grouping numeric , date, categorical"
   ]
  },
  {
   "cell_type": "code",
   "execution_count": 33,
   "id": "9e2ed1a9",
   "metadata": {},
   "outputs": [],
   "source": [
    "date_feat=['fecha_alta']\n",
    "numeric_feat=['age','renta','antiguedad']\n",
    "bioniomial_feat =['sexo','ind_nuevo','indrel','indresi', 'indext','indfall','ind_actividad_cliente']\n",
    "multicategorical_feat = ['ind_empleado','pais_residencia', 'nomprov','canal_entrada', 'indrel_1mes','tiprel_1mes']\n",
    "intcategorical_vars = ['ind_ahor_fin_ult1','ind_aval_fin_ult1', 'ind_cco_fin_ult1', 'ind_cder_fin_ult1','ind_cno_fin_ult1',\n",
    "                       'ind_ctju_fin_ult1', 'ind_ctma_fin_ult1','ind_ctop_fin_ult1', 'ind_ctpp_fin_ult1', 'ind_deco_fin_ult1',\n",
    "                       'ind_deme_fin_ult1', 'ind_dela_fin_ult1', 'ind_ecue_fin_ult1','ind_fond_fin_ult1', 'ind_hip_fin_ult1', \n",
    "                       'ind_plan_fin_ult1','ind_pres_fin_ult1', 'ind_reca_fin_ult1', 'ind_tjcr_fin_ult1','ind_valo_fin_ult1',\n",
    "                       'ind_viv_fin_ult1','ind_nomina_ult1','ind_nom_pens_ult1', 'ind_recibo_ult1']"
   ]
  },
  {
   "cell_type": "code",
   "execution_count": 34,
   "id": "617d0745",
   "metadata": {},
   "outputs": [],
   "source": [
    "#transofrming the categorical data type into category\n",
    "cust_cleaned[multicategorical_feat]=cust_cleaned[multicategorical_feat].astype('category')\n",
    "cust_cleaned[bioniomial_feat]=cust_cleaned[bioniomial_feat].astype('category')\n",
    "cust_cleaned[intcategorical_vars]=cust_cleaned[intcategorical_vars].astype('category')\n"
   ]
  },
  {
   "cell_type": "code",
   "execution_count": 35,
   "id": "e9cd02e6",
   "metadata": {},
   "outputs": [],
   "source": [
    "#transforming numeric features into int type\n",
    "cust_cleaned[numeric_feat]=cust_cleaned[numeric_feat].round(0).astype('int')"
   ]
  },
  {
   "cell_type": "code",
   "execution_count": 36,
   "id": "6c112976",
   "metadata": {},
   "outputs": [],
   "source": [
    "cust_cleaned['fecha_alta']=cust_cleaned['fecha_alta'].apply(lambda _:datetime.datetime.strptime(_,'%Y-%m-%d'))\n",
    "\n"
   ]
  },
  {
   "cell_type": "code",
   "execution_count": 37,
   "id": "47ee8bdd",
   "metadata": {},
   "outputs": [
    {
     "name": "stdout",
     "output_type": "stream",
     "text": [
      "<class 'pandas.core.frame.DataFrame'>\n",
      "RangeIndex: 641992 entries, 0 to 641991\n",
      "Data columns (total 41 columns):\n",
      " #   Column                 Non-Null Count   Dtype         \n",
      "---  ------                 --------------   -----         \n",
      " 0   ind_empleado           641992 non-null  category      \n",
      " 1   pais_residencia        641992 non-null  category      \n",
      " 2   sexo                   641992 non-null  category      \n",
      " 3   age                    641992 non-null  int64         \n",
      " 4   fecha_alta             641992 non-null  datetime64[ns]\n",
      " 5   ind_nuevo              641992 non-null  category      \n",
      " 6   antiguedad             641992 non-null  int64         \n",
      " 7   indrel                 641992 non-null  category      \n",
      " 8   indrel_1mes            641992 non-null  category      \n",
      " 9   tiprel_1mes            641992 non-null  category      \n",
      " 10  indresi                641992 non-null  category      \n",
      " 11  indext                 641992 non-null  category      \n",
      " 12  canal_entrada          641992 non-null  category      \n",
      " 13  indfall                641992 non-null  category      \n",
      " 14  nomprov                641992 non-null  category      \n",
      " 15  ind_actividad_cliente  641992 non-null  category      \n",
      " 16  renta                  641992 non-null  int64         \n",
      " 17  ind_ahor_fin_ult1      641992 non-null  category      \n",
      " 18  ind_aval_fin_ult1      641992 non-null  category      \n",
      " 19  ind_cco_fin_ult1       641992 non-null  category      \n",
      " 20  ind_cder_fin_ult1      641992 non-null  category      \n",
      " 21  ind_cno_fin_ult1       641992 non-null  category      \n",
      " 22  ind_ctju_fin_ult1      641992 non-null  category      \n",
      " 23  ind_ctma_fin_ult1      641992 non-null  category      \n",
      " 24  ind_ctop_fin_ult1      641992 non-null  category      \n",
      " 25  ind_ctpp_fin_ult1      641992 non-null  category      \n",
      " 26  ind_deco_fin_ult1      641992 non-null  category      \n",
      " 27  ind_deme_fin_ult1      641992 non-null  category      \n",
      " 28  ind_dela_fin_ult1      641992 non-null  category      \n",
      " 29  ind_ecue_fin_ult1      641992 non-null  category      \n",
      " 30  ind_fond_fin_ult1      641992 non-null  category      \n",
      " 31  ind_hip_fin_ult1       641992 non-null  category      \n",
      " 32  ind_plan_fin_ult1      641992 non-null  category      \n",
      " 33  ind_pres_fin_ult1      641992 non-null  category      \n",
      " 34  ind_reca_fin_ult1      641992 non-null  category      \n",
      " 35  ind_tjcr_fin_ult1      641992 non-null  category      \n",
      " 36  ind_valo_fin_ult1      641992 non-null  category      \n",
      " 37  ind_viv_fin_ult1       641992 non-null  category      \n",
      " 38  ind_nomina_ult1        641992 non-null  category      \n",
      " 39  ind_nom_pens_ult1      641992 non-null  category      \n",
      " 40  ind_recibo_ult1        641992 non-null  category      \n",
      "dtypes: category(37), datetime64[ns](1), int64(3)\n",
      "memory usage: 42.9 MB\n"
     ]
    }
   ],
   "source": [
    "cust_cleaned.info()"
   ]
  },
  {
   "cell_type": "markdown",
   "id": "290392e0",
   "metadata": {},
   "source": [
    "###  outliers Detection and removing"
   ]
  },
  {
   "cell_type": "code",
   "execution_count": 38,
   "id": "fbff1eae",
   "metadata": {},
   "outputs": [],
   "source": [
    "def outlier(f):\n",
    "    q1 = cust_cleaned[f].quantile(0.25)\n",
    "    q3 = cust_cleaned[f].quantile(0.75)\n",
    "    qrt = q3-q1\n",
    "    lower_bound = q1-1.5*qrt\n",
    "    upper_bound = q3+1.5*qrt\n",
    "    upper = np.where(cust_cleaned[f] >= upper_bound)\n",
    "    lower = np.where(cust_cleaned[f] <= lower_bound)\n",
    "    cust_cleaned.drop(upper[0], inplace = True)\n",
    "    cust_cleaned.drop(lower[0], inplace = True)\n",
    "    "
   ]
  },
  {
   "cell_type": "code",
   "execution_count": 40,
   "id": "6c40e73c",
   "metadata": {},
   "outputs": [],
   "source": [
    "outlier('age')\n",
    "outlier('antiguedad')"
   ]
  },
  {
   "cell_type": "code",
   "execution_count": 42,
   "id": "c5497bb2",
   "metadata": {},
   "outputs": [],
   "source": [
    "cust_cleaned.to_csv('cust_seg_cleaned.csv')"
   ]
  }
 ],
 "metadata": {
  "kernelspec": {
   "display_name": "Python 3 (ipykernel)",
   "language": "python",
   "name": "python3"
  },
  "language_info": {
   "codemirror_mode": {
    "name": "ipython",
    "version": 3
   },
   "file_extension": ".py",
   "mimetype": "text/x-python",
   "name": "python",
   "nbconvert_exporter": "python",
   "pygments_lexer": "ipython3",
   "version": "3.8.10"
  }
 },
 "nbformat": 4,
 "nbformat_minor": 5
}

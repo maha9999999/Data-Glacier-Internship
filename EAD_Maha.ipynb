{
 "cells": [
  {
   "cell_type": "markdown",
   "id": "00a96a79",
   "metadata": {},
   "source": [
    "\n",
    "G2M: Cab Industry\n",
    "Week 2\n",
    "\n",
    "\n",
    "<h2>Buisness Problem:</h2>\n",
    "\n",
    "\n",
    "US cab company is majory of two kinds; Pink Cab and Yellow Cab. Our problem is to find out which Cab company would be good choice to invest in. For this purpose, we should find the advantages(profits) of that car compared to another one. Whichever cab company seems suitable in terms on market value, we would invest in that.\n"
   ]
  },
  {
   "cell_type": "markdown",
   "id": "c425705b",
   "metadata": {},
   "source": [
    "<h2>Packages</h2>\n",
    "<p>Run the following cell to load all the packages </p>"
   ]
  },
  {
   "cell_type": "code",
   "execution_count": 2,
   "id": "257c9645",
   "metadata": {},
   "outputs": [],
   "source": [
    "import pandas as pd \n",
    "import seaborn as sns\n",
    "import matplotlib.pyplot as plt\n",
    "import datetime"
   ]
  },
  {
   "cell_type": "code",
   "execution_count": 3,
   "id": "0f02e23a",
   "metadata": {},
   "outputs": [],
   "source": [
    "df_cab = pd.read_csv('./dataset/DataSets/Cab_Data.csv')\n",
    "df_city = pd. read_csv('./dataset/DataSets/City.csv')\n",
    "df_customer_ID = pd.read_csv('./dataset/DataSets/Customer_ID.csv')\n",
    "df_transaction_ID = pd.read_csv('./dataset/DataSets/Transaction_ID.csv')"
   ]
  },
  {
   "cell_type": "code",
   "execution_count": 3,
   "id": "28cb2b6f",
   "metadata": {},
   "outputs": [
    {
     "data": {
      "text/html": [
       "<div>\n",
       "<style scoped>\n",
       "    .dataframe tbody tr th:only-of-type {\n",
       "        vertical-align: middle;\n",
       "    }\n",
       "\n",
       "    .dataframe tbody tr th {\n",
       "        vertical-align: top;\n",
       "    }\n",
       "\n",
       "    .dataframe thead th {\n",
       "        text-align: right;\n",
       "    }\n",
       "</style>\n",
       "<table border=\"1\" class=\"dataframe\">\n",
       "  <thead>\n",
       "    <tr style=\"text-align: right;\">\n",
       "      <th></th>\n",
       "      <th>Transaction ID</th>\n",
       "      <th>Date of Travel</th>\n",
       "      <th>Company</th>\n",
       "      <th>City</th>\n",
       "      <th>KM Travelled</th>\n",
       "      <th>Price Charged</th>\n",
       "      <th>Cost of Trip</th>\n",
       "    </tr>\n",
       "  </thead>\n",
       "  <tbody>\n",
       "    <tr>\n",
       "      <th>0</th>\n",
       "      <td>10000011</td>\n",
       "      <td>42377</td>\n",
       "      <td>Pink Cab</td>\n",
       "      <td>ATLANTA GA</td>\n",
       "      <td>30.45</td>\n",
       "      <td>370.95</td>\n",
       "      <td>313.6350</td>\n",
       "    </tr>\n",
       "    <tr>\n",
       "      <th>1</th>\n",
       "      <td>10000012</td>\n",
       "      <td>42375</td>\n",
       "      <td>Pink Cab</td>\n",
       "      <td>ATLANTA GA</td>\n",
       "      <td>28.62</td>\n",
       "      <td>358.52</td>\n",
       "      <td>334.8540</td>\n",
       "    </tr>\n",
       "    <tr>\n",
       "      <th>2</th>\n",
       "      <td>10000013</td>\n",
       "      <td>42371</td>\n",
       "      <td>Pink Cab</td>\n",
       "      <td>ATLANTA GA</td>\n",
       "      <td>9.04</td>\n",
       "      <td>125.20</td>\n",
       "      <td>97.6320</td>\n",
       "    </tr>\n",
       "    <tr>\n",
       "      <th>3</th>\n",
       "      <td>10000014</td>\n",
       "      <td>42376</td>\n",
       "      <td>Pink Cab</td>\n",
       "      <td>ATLANTA GA</td>\n",
       "      <td>33.17</td>\n",
       "      <td>377.40</td>\n",
       "      <td>351.6020</td>\n",
       "    </tr>\n",
       "    <tr>\n",
       "      <th>4</th>\n",
       "      <td>10000015</td>\n",
       "      <td>42372</td>\n",
       "      <td>Pink Cab</td>\n",
       "      <td>ATLANTA GA</td>\n",
       "      <td>8.73</td>\n",
       "      <td>114.62</td>\n",
       "      <td>97.7760</td>\n",
       "    </tr>\n",
       "    <tr>\n",
       "      <th>...</th>\n",
       "      <td>...</td>\n",
       "      <td>...</td>\n",
       "      <td>...</td>\n",
       "      <td>...</td>\n",
       "      <td>...</td>\n",
       "      <td>...</td>\n",
       "      <td>...</td>\n",
       "    </tr>\n",
       "    <tr>\n",
       "      <th>359387</th>\n",
       "      <td>10440101</td>\n",
       "      <td>43108</td>\n",
       "      <td>Yellow Cab</td>\n",
       "      <td>WASHINGTON DC</td>\n",
       "      <td>4.80</td>\n",
       "      <td>69.24</td>\n",
       "      <td>63.3600</td>\n",
       "    </tr>\n",
       "    <tr>\n",
       "      <th>359388</th>\n",
       "      <td>10440104</td>\n",
       "      <td>43104</td>\n",
       "      <td>Yellow Cab</td>\n",
       "      <td>WASHINGTON DC</td>\n",
       "      <td>8.40</td>\n",
       "      <td>113.75</td>\n",
       "      <td>106.8480</td>\n",
       "    </tr>\n",
       "    <tr>\n",
       "      <th>359389</th>\n",
       "      <td>10440105</td>\n",
       "      <td>43105</td>\n",
       "      <td>Yellow Cab</td>\n",
       "      <td>WASHINGTON DC</td>\n",
       "      <td>27.75</td>\n",
       "      <td>437.07</td>\n",
       "      <td>349.6500</td>\n",
       "    </tr>\n",
       "    <tr>\n",
       "      <th>359390</th>\n",
       "      <td>10440106</td>\n",
       "      <td>43105</td>\n",
       "      <td>Yellow Cab</td>\n",
       "      <td>WASHINGTON DC</td>\n",
       "      <td>8.80</td>\n",
       "      <td>146.19</td>\n",
       "      <td>114.0480</td>\n",
       "    </tr>\n",
       "    <tr>\n",
       "      <th>359391</th>\n",
       "      <td>10440107</td>\n",
       "      <td>43102</td>\n",
       "      <td>Yellow Cab</td>\n",
       "      <td>WASHINGTON DC</td>\n",
       "      <td>12.76</td>\n",
       "      <td>191.58</td>\n",
       "      <td>177.6192</td>\n",
       "    </tr>\n",
       "  </tbody>\n",
       "</table>\n",
       "<p>359392 rows × 7 columns</p>\n",
       "</div>"
      ],
      "text/plain": [
       "        Transaction ID  Date of Travel     Company           City  \\\n",
       "0             10000011           42377    Pink Cab     ATLANTA GA   \n",
       "1             10000012           42375    Pink Cab     ATLANTA GA   \n",
       "2             10000013           42371    Pink Cab     ATLANTA GA   \n",
       "3             10000014           42376    Pink Cab     ATLANTA GA   \n",
       "4             10000015           42372    Pink Cab     ATLANTA GA   \n",
       "...                ...             ...         ...            ...   \n",
       "359387        10440101           43108  Yellow Cab  WASHINGTON DC   \n",
       "359388        10440104           43104  Yellow Cab  WASHINGTON DC   \n",
       "359389        10440105           43105  Yellow Cab  WASHINGTON DC   \n",
       "359390        10440106           43105  Yellow Cab  WASHINGTON DC   \n",
       "359391        10440107           43102  Yellow Cab  WASHINGTON DC   \n",
       "\n",
       "        KM Travelled  Price Charged  Cost of Trip  \n",
       "0              30.45         370.95      313.6350  \n",
       "1              28.62         358.52      334.8540  \n",
       "2               9.04         125.20       97.6320  \n",
       "3              33.17         377.40      351.6020  \n",
       "4               8.73         114.62       97.7760  \n",
       "...              ...            ...           ...  \n",
       "359387          4.80          69.24       63.3600  \n",
       "359388          8.40         113.75      106.8480  \n",
       "359389         27.75         437.07      349.6500  \n",
       "359390          8.80         146.19      114.0480  \n",
       "359391         12.76         191.58      177.6192  \n",
       "\n",
       "[359392 rows x 7 columns]"
      ]
     },
     "execution_count": 3,
     "metadata": {},
     "output_type": "execute_result"
    }
   ],
   "source": [
    "df_cab\n"
   ]
  },
  {
   "cell_type": "code",
   "execution_count": 138,
   "id": "33303855",
   "metadata": {},
   "outputs": [
    {
     "name": "stdout",
     "output_type": "stream",
     "text": [
      "43105    2022\n",
      "43084    1123\n",
      "43077    1100\n",
      "43449    1086\n",
      "43063    1085\n",
      "         ... \n",
      "42388      88\n",
      "42381      86\n",
      "42380      85\n",
      "42374      47\n",
      "42373      25\n",
      "Name: Date of Travel, Length: 1095, dtype: int64\n"
     ]
    }
   ],
   "source": [
    "print(df_cab['Date of Travel'].value_counts())"
   ]
  },
  {
   "cell_type": "markdown",
   "id": "69a33b71",
   "metadata": {},
   "source": [
    "<h3>Data transformation</h3>\n",
    "\n",
    "<h6>Converting the date</h6>\n",
    "\n",
    "Next, we will convert the date.\n",
    "\n",
    "we are going to convert *the Date of Travel* field into an actual DateTime argument"
   ]
  },
  {
   "cell_type": "code",
   "execution_count": 4,
   "id": "5e827257",
   "metadata": {},
   "outputs": [
    {
     "name": "stdout",
     "output_type": "stream",
     "text": [
      "min_travel_date: 42371\n",
      "max_travel_date: 43465\n"
     ]
    }
   ],
   "source": [
    "from datetime import datetime\n",
    "min_travel_date =df_cab['Date of Travel'].min()\n",
    "max_travel_date =df_cab['Date of Travel'].max()\n",
    "print('min_travel_date:',min_travel_date)\n",
    "print('max_travel_date:',max_travel_date)"
   ]
  },
  {
   "cell_type": "code",
   "execution_count": 5,
   "id": "0849cf14",
   "metadata": {},
   "outputs": [
    {
     "name": "stdout",
     "output_type": "stream",
     "text": [
      "min_travel_date is: 31-01-2016\n",
      "max_travel_date is: 29-01-2019\n"
     ]
    }
   ],
   "source": [
    "\n",
    "min_travel_date = datetime.fromordinal(min_travel_date-2+datetime(1900,1,30).toordinal()).strftime(\"%d-%m-%Y\")\n",
    "max_travel_date = datetime.fromordinal(max_travel_date-2+datetime(1900,1,30).toordinal()).strftime(\"%d-%m-%Y\")\n",
    "print('min_travel_date is: {}'.format(min_travel_date))\n",
    "print('max_travel_date is: {}'.format(max_travel_date))"
   ]
  },
  {
   "cell_type": "code",
   "execution_count": 6,
   "id": "8ffcfccd",
   "metadata": {},
   "outputs": [],
   "source": [
    "#let's do a function to do that for all the values \n",
    "def change_date(date):\n",
    "    date_converted = datetime.fromordinal(datetime(1900,1,30).toordinal()+date-2).strftime(\"%d-%m-%Y\")\n",
    "    return datetime.strptime(date_converted, \"%d-%m-%Y\")\n"
   ]
  },
  {
   "cell_type": "code",
   "execution_count": 7,
   "id": "81809317",
   "metadata": {},
   "outputs": [],
   "source": [
    "df_cab['Date of Travel'] = df_cab['Date of Travel'].apply(lambda x:change_date(x))"
   ]
  },
  {
   "cell_type": "code",
   "execution_count": 8,
   "id": "f6583002",
   "metadata": {},
   "outputs": [
    {
     "name": "stdout",
     "output_type": "stream",
     "text": [
      "0        2016-02-06\n",
      "1        2016-02-04\n",
      "2        2016-01-31\n",
      "3        2016-02-05\n",
      "4        2016-02-01\n",
      "            ...    \n",
      "359387   2018-02-06\n",
      "359388   2018-02-02\n",
      "359389   2018-02-03\n",
      "359390   2018-02-03\n",
      "359391   2018-01-31\n",
      "Name: Date of Travel, Length: 359392, dtype: datetime64[ns]\n"
     ]
    }
   ],
   "source": [
    "print(df_cab['Date of Travel'])"
   ]
  },
  {
   "cell_type": "code",
   "execution_count": 199,
   "id": "b712702f",
   "metadata": {},
   "outputs": [
    {
     "data": {
      "text/html": [
       "<div>\n",
       "<style scoped>\n",
       "    .dataframe tbody tr th:only-of-type {\n",
       "        vertical-align: middle;\n",
       "    }\n",
       "\n",
       "    .dataframe tbody tr th {\n",
       "        vertical-align: top;\n",
       "    }\n",
       "\n",
       "    .dataframe thead th {\n",
       "        text-align: right;\n",
       "    }\n",
       "</style>\n",
       "<table border=\"1\" class=\"dataframe\">\n",
       "  <thead>\n",
       "    <tr style=\"text-align: right;\">\n",
       "      <th></th>\n",
       "      <th>City</th>\n",
       "      <th>Population</th>\n",
       "      <th>Users</th>\n",
       "    </tr>\n",
       "  </thead>\n",
       "  <tbody>\n",
       "    <tr>\n",
       "      <th>0</th>\n",
       "      <td>NEW YORK NY</td>\n",
       "      <td>8,405,837</td>\n",
       "      <td>302,149</td>\n",
       "    </tr>\n",
       "    <tr>\n",
       "      <th>1</th>\n",
       "      <td>CHICAGO IL</td>\n",
       "      <td>1,955,130</td>\n",
       "      <td>164,468</td>\n",
       "    </tr>\n",
       "    <tr>\n",
       "      <th>2</th>\n",
       "      <td>LOS ANGELES CA</td>\n",
       "      <td>1,595,037</td>\n",
       "      <td>144,132</td>\n",
       "    </tr>\n",
       "    <tr>\n",
       "      <th>3</th>\n",
       "      <td>MIAMI FL</td>\n",
       "      <td>1,339,155</td>\n",
       "      <td>17,675</td>\n",
       "    </tr>\n",
       "    <tr>\n",
       "      <th>4</th>\n",
       "      <td>SILICON VALLEY</td>\n",
       "      <td>1,177,609</td>\n",
       "      <td>27,247</td>\n",
       "    </tr>\n",
       "    <tr>\n",
       "      <th>5</th>\n",
       "      <td>ORANGE COUNTY</td>\n",
       "      <td>1,030,185</td>\n",
       "      <td>12,994</td>\n",
       "    </tr>\n",
       "    <tr>\n",
       "      <th>6</th>\n",
       "      <td>SAN DIEGO CA</td>\n",
       "      <td>959,307</td>\n",
       "      <td>69,995</td>\n",
       "    </tr>\n",
       "    <tr>\n",
       "      <th>7</th>\n",
       "      <td>PHOENIX AZ</td>\n",
       "      <td>943,999</td>\n",
       "      <td>6,133</td>\n",
       "    </tr>\n",
       "    <tr>\n",
       "      <th>8</th>\n",
       "      <td>DALLAS TX</td>\n",
       "      <td>942,908</td>\n",
       "      <td>22,157</td>\n",
       "    </tr>\n",
       "    <tr>\n",
       "      <th>9</th>\n",
       "      <td>ATLANTA GA</td>\n",
       "      <td>814,885</td>\n",
       "      <td>24,701</td>\n",
       "    </tr>\n",
       "    <tr>\n",
       "      <th>10</th>\n",
       "      <td>DENVER CO</td>\n",
       "      <td>754,233</td>\n",
       "      <td>12,421</td>\n",
       "    </tr>\n",
       "    <tr>\n",
       "      <th>11</th>\n",
       "      <td>AUSTIN TX</td>\n",
       "      <td>698,371</td>\n",
       "      <td>14,978</td>\n",
       "    </tr>\n",
       "    <tr>\n",
       "      <th>12</th>\n",
       "      <td>SEATTLE WA</td>\n",
       "      <td>671,238</td>\n",
       "      <td>25,063</td>\n",
       "    </tr>\n",
       "    <tr>\n",
       "      <th>13</th>\n",
       "      <td>TUCSON AZ</td>\n",
       "      <td>631,442</td>\n",
       "      <td>5,712</td>\n",
       "    </tr>\n",
       "    <tr>\n",
       "      <th>14</th>\n",
       "      <td>SAN FRANCISCO CA</td>\n",
       "      <td>629,591</td>\n",
       "      <td>213,609</td>\n",
       "    </tr>\n",
       "    <tr>\n",
       "      <th>15</th>\n",
       "      <td>SACRAMENTO CA</td>\n",
       "      <td>545,776</td>\n",
       "      <td>7,044</td>\n",
       "    </tr>\n",
       "    <tr>\n",
       "      <th>16</th>\n",
       "      <td>PITTSBURGH PA</td>\n",
       "      <td>542,085</td>\n",
       "      <td>3,643</td>\n",
       "    </tr>\n",
       "    <tr>\n",
       "      <th>17</th>\n",
       "      <td>WASHINGTON DC</td>\n",
       "      <td>418,859</td>\n",
       "      <td>127,001</td>\n",
       "    </tr>\n",
       "    <tr>\n",
       "      <th>18</th>\n",
       "      <td>NASHVILLE TN</td>\n",
       "      <td>327,225</td>\n",
       "      <td>9,270</td>\n",
       "    </tr>\n",
       "    <tr>\n",
       "      <th>19</th>\n",
       "      <td>BOSTON MA</td>\n",
       "      <td>248,968</td>\n",
       "      <td>80,021</td>\n",
       "    </tr>\n",
       "  </tbody>\n",
       "</table>\n",
       "</div>"
      ],
      "text/plain": [
       "                City   Population      Users\n",
       "0        NEW YORK NY   8,405,837    302,149 \n",
       "1         CHICAGO IL   1,955,130    164,468 \n",
       "2     LOS ANGELES CA   1,595,037    144,132 \n",
       "3           MIAMI FL   1,339,155     17,675 \n",
       "4     SILICON VALLEY   1,177,609     27,247 \n",
       "5      ORANGE COUNTY   1,030,185     12,994 \n",
       "6       SAN DIEGO CA     959,307     69,995 \n",
       "7         PHOENIX AZ     943,999      6,133 \n",
       "8          DALLAS TX     942,908     22,157 \n",
       "9         ATLANTA GA     814,885     24,701 \n",
       "10         DENVER CO     754,233     12,421 \n",
       "11         AUSTIN TX     698,371     14,978 \n",
       "12        SEATTLE WA     671,238     25,063 \n",
       "13         TUCSON AZ     631,442      5,712 \n",
       "14  SAN FRANCISCO CA     629,591    213,609 \n",
       "15     SACRAMENTO CA     545,776      7,044 \n",
       "16     PITTSBURGH PA     542,085      3,643 \n",
       "17     WASHINGTON DC     418,859    127,001 \n",
       "18      NASHVILLE TN     327,225      9,270 \n",
       "19         BOSTON MA     248,968     80,021 "
      ]
     },
     "execution_count": 199,
     "metadata": {},
     "output_type": "execute_result"
    }
   ],
   "source": [
    "df_city\n"
   ]
  },
  {
   "cell_type": "markdown",
   "id": "6ecc87aa",
   "metadata": {},
   "source": [
    "<h6>remove commas in string in the 'population' and 'users'  fields of df_city</h6>"
   ]
  },
  {
   "cell_type": "code",
   "execution_count": 9,
   "id": "0a088b1a",
   "metadata": {},
   "outputs": [],
   "source": [
    "def remove_com(s):\n",
    "    return int(s.replace(',', ''))\n",
    "    "
   ]
  },
  {
   "cell_type": "code",
   "execution_count": 10,
   "id": "66495eb7",
   "metadata": {},
   "outputs": [],
   "source": [
    "df_city['Population'] =df_city['Population'].apply(lambda x:remove_com(x))\n",
    "df_city['Users'] =df_city['Users'].apply(lambda x:remove_com(x))"
   ]
  },
  {
   "cell_type": "code",
   "execution_count": 11,
   "id": "cc4b6338",
   "metadata": {},
   "outputs": [
    {
     "data": {
      "text/html": [
       "<div>\n",
       "<style scoped>\n",
       "    .dataframe tbody tr th:only-of-type {\n",
       "        vertical-align: middle;\n",
       "    }\n",
       "\n",
       "    .dataframe tbody tr th {\n",
       "        vertical-align: top;\n",
       "    }\n",
       "\n",
       "    .dataframe thead th {\n",
       "        text-align: right;\n",
       "    }\n",
       "</style>\n",
       "<table border=\"1\" class=\"dataframe\">\n",
       "  <thead>\n",
       "    <tr style=\"text-align: right;\">\n",
       "      <th></th>\n",
       "      <th>City</th>\n",
       "      <th>Population</th>\n",
       "      <th>Users</th>\n",
       "    </tr>\n",
       "  </thead>\n",
       "  <tbody>\n",
       "    <tr>\n",
       "      <th>0</th>\n",
       "      <td>NEW YORK NY</td>\n",
       "      <td>8405837</td>\n",
       "      <td>302149</td>\n",
       "    </tr>\n",
       "    <tr>\n",
       "      <th>1</th>\n",
       "      <td>CHICAGO IL</td>\n",
       "      <td>1955130</td>\n",
       "      <td>164468</td>\n",
       "    </tr>\n",
       "    <tr>\n",
       "      <th>2</th>\n",
       "      <td>LOS ANGELES CA</td>\n",
       "      <td>1595037</td>\n",
       "      <td>144132</td>\n",
       "    </tr>\n",
       "    <tr>\n",
       "      <th>3</th>\n",
       "      <td>MIAMI FL</td>\n",
       "      <td>1339155</td>\n",
       "      <td>17675</td>\n",
       "    </tr>\n",
       "    <tr>\n",
       "      <th>4</th>\n",
       "      <td>SILICON VALLEY</td>\n",
       "      <td>1177609</td>\n",
       "      <td>27247</td>\n",
       "    </tr>\n",
       "    <tr>\n",
       "      <th>5</th>\n",
       "      <td>ORANGE COUNTY</td>\n",
       "      <td>1030185</td>\n",
       "      <td>12994</td>\n",
       "    </tr>\n",
       "    <tr>\n",
       "      <th>6</th>\n",
       "      <td>SAN DIEGO CA</td>\n",
       "      <td>959307</td>\n",
       "      <td>69995</td>\n",
       "    </tr>\n",
       "    <tr>\n",
       "      <th>7</th>\n",
       "      <td>PHOENIX AZ</td>\n",
       "      <td>943999</td>\n",
       "      <td>6133</td>\n",
       "    </tr>\n",
       "    <tr>\n",
       "      <th>8</th>\n",
       "      <td>DALLAS TX</td>\n",
       "      <td>942908</td>\n",
       "      <td>22157</td>\n",
       "    </tr>\n",
       "    <tr>\n",
       "      <th>9</th>\n",
       "      <td>ATLANTA GA</td>\n",
       "      <td>814885</td>\n",
       "      <td>24701</td>\n",
       "    </tr>\n",
       "    <tr>\n",
       "      <th>10</th>\n",
       "      <td>DENVER CO</td>\n",
       "      <td>754233</td>\n",
       "      <td>12421</td>\n",
       "    </tr>\n",
       "    <tr>\n",
       "      <th>11</th>\n",
       "      <td>AUSTIN TX</td>\n",
       "      <td>698371</td>\n",
       "      <td>14978</td>\n",
       "    </tr>\n",
       "    <tr>\n",
       "      <th>12</th>\n",
       "      <td>SEATTLE WA</td>\n",
       "      <td>671238</td>\n",
       "      <td>25063</td>\n",
       "    </tr>\n",
       "    <tr>\n",
       "      <th>13</th>\n",
       "      <td>TUCSON AZ</td>\n",
       "      <td>631442</td>\n",
       "      <td>5712</td>\n",
       "    </tr>\n",
       "    <tr>\n",
       "      <th>14</th>\n",
       "      <td>SAN FRANCISCO CA</td>\n",
       "      <td>629591</td>\n",
       "      <td>213609</td>\n",
       "    </tr>\n",
       "    <tr>\n",
       "      <th>15</th>\n",
       "      <td>SACRAMENTO CA</td>\n",
       "      <td>545776</td>\n",
       "      <td>7044</td>\n",
       "    </tr>\n",
       "    <tr>\n",
       "      <th>16</th>\n",
       "      <td>PITTSBURGH PA</td>\n",
       "      <td>542085</td>\n",
       "      <td>3643</td>\n",
       "    </tr>\n",
       "    <tr>\n",
       "      <th>17</th>\n",
       "      <td>WASHINGTON DC</td>\n",
       "      <td>418859</td>\n",
       "      <td>127001</td>\n",
       "    </tr>\n",
       "    <tr>\n",
       "      <th>18</th>\n",
       "      <td>NASHVILLE TN</td>\n",
       "      <td>327225</td>\n",
       "      <td>9270</td>\n",
       "    </tr>\n",
       "    <tr>\n",
       "      <th>19</th>\n",
       "      <td>BOSTON MA</td>\n",
       "      <td>248968</td>\n",
       "      <td>80021</td>\n",
       "    </tr>\n",
       "  </tbody>\n",
       "</table>\n",
       "</div>"
      ],
      "text/plain": [
       "                City  Population   Users\n",
       "0        NEW YORK NY     8405837  302149\n",
       "1         CHICAGO IL     1955130  164468\n",
       "2     LOS ANGELES CA     1595037  144132\n",
       "3           MIAMI FL     1339155   17675\n",
       "4     SILICON VALLEY     1177609   27247\n",
       "5      ORANGE COUNTY     1030185   12994\n",
       "6       SAN DIEGO CA      959307   69995\n",
       "7         PHOENIX AZ      943999    6133\n",
       "8          DALLAS TX      942908   22157\n",
       "9         ATLANTA GA      814885   24701\n",
       "10         DENVER CO      754233   12421\n",
       "11         AUSTIN TX      698371   14978\n",
       "12        SEATTLE WA      671238   25063\n",
       "13         TUCSON AZ      631442    5712\n",
       "14  SAN FRANCISCO CA      629591  213609\n",
       "15     SACRAMENTO CA      545776    7044\n",
       "16     PITTSBURGH PA      542085    3643\n",
       "17     WASHINGTON DC      418859  127001\n",
       "18      NASHVILLE TN      327225    9270\n",
       "19         BOSTON MA      248968   80021"
      ]
     },
     "execution_count": 11,
     "metadata": {},
     "output_type": "execute_result"
    }
   ],
   "source": [
    "df_city"
   ]
  },
  {
   "cell_type": "code",
   "execution_count": 153,
   "id": "34345536",
   "metadata": {},
   "outputs": [
    {
     "data": {
      "text/html": [
       "<div>\n",
       "<style scoped>\n",
       "    .dataframe tbody tr th:only-of-type {\n",
       "        vertical-align: middle;\n",
       "    }\n",
       "\n",
       "    .dataframe tbody tr th {\n",
       "        vertical-align: top;\n",
       "    }\n",
       "\n",
       "    .dataframe thead th {\n",
       "        text-align: right;\n",
       "    }\n",
       "</style>\n",
       "<table border=\"1\" class=\"dataframe\">\n",
       "  <thead>\n",
       "    <tr style=\"text-align: right;\">\n",
       "      <th></th>\n",
       "      <th>Customer ID</th>\n",
       "      <th>Gender</th>\n",
       "      <th>Age</th>\n",
       "      <th>Income (USD/Month)</th>\n",
       "    </tr>\n",
       "  </thead>\n",
       "  <tbody>\n",
       "    <tr>\n",
       "      <th>0</th>\n",
       "      <td>29290</td>\n",
       "      <td>Male</td>\n",
       "      <td>28</td>\n",
       "      <td>10813</td>\n",
       "    </tr>\n",
       "    <tr>\n",
       "      <th>1</th>\n",
       "      <td>27703</td>\n",
       "      <td>Male</td>\n",
       "      <td>27</td>\n",
       "      <td>9237</td>\n",
       "    </tr>\n",
       "    <tr>\n",
       "      <th>2</th>\n",
       "      <td>28712</td>\n",
       "      <td>Male</td>\n",
       "      <td>53</td>\n",
       "      <td>11242</td>\n",
       "    </tr>\n",
       "  </tbody>\n",
       "</table>\n",
       "</div>"
      ],
      "text/plain": [
       "   Customer ID Gender  Age  Income (USD/Month)\n",
       "0        29290   Male   28               10813\n",
       "1        27703   Male   27                9237\n",
       "2        28712   Male   53               11242"
      ]
     },
     "execution_count": 153,
     "metadata": {},
     "output_type": "execute_result"
    }
   ],
   "source": [
    "df_customer_ID.head(3)\n"
   ]
  },
  {
   "cell_type": "code",
   "execution_count": 154,
   "id": "7cdba76f",
   "metadata": {},
   "outputs": [
    {
     "data": {
      "text/html": [
       "<div>\n",
       "<style scoped>\n",
       "    .dataframe tbody tr th:only-of-type {\n",
       "        vertical-align: middle;\n",
       "    }\n",
       "\n",
       "    .dataframe tbody tr th {\n",
       "        vertical-align: top;\n",
       "    }\n",
       "\n",
       "    .dataframe thead th {\n",
       "        text-align: right;\n",
       "    }\n",
       "</style>\n",
       "<table border=\"1\" class=\"dataframe\">\n",
       "  <thead>\n",
       "    <tr style=\"text-align: right;\">\n",
       "      <th></th>\n",
       "      <th>Transaction ID</th>\n",
       "      <th>Customer ID</th>\n",
       "      <th>Payment_Mode</th>\n",
       "    </tr>\n",
       "  </thead>\n",
       "  <tbody>\n",
       "    <tr>\n",
       "      <th>0</th>\n",
       "      <td>10000011</td>\n",
       "      <td>29290</td>\n",
       "      <td>Card</td>\n",
       "    </tr>\n",
       "    <tr>\n",
       "      <th>1</th>\n",
       "      <td>10000012</td>\n",
       "      <td>27703</td>\n",
       "      <td>Card</td>\n",
       "    </tr>\n",
       "    <tr>\n",
       "      <th>2</th>\n",
       "      <td>10000013</td>\n",
       "      <td>28712</td>\n",
       "      <td>Cash</td>\n",
       "    </tr>\n",
       "  </tbody>\n",
       "</table>\n",
       "</div>"
      ],
      "text/plain": [
       "   Transaction ID  Customer ID Payment_Mode\n",
       "0        10000011        29290         Card\n",
       "1        10000012        27703         Card\n",
       "2        10000013        28712         Cash"
      ]
     },
     "execution_count": 154,
     "metadata": {},
     "output_type": "execute_result"
    }
   ],
   "source": [
    "df_transaction_ID.head(3)"
   ]
  },
  {
   "cell_type": "markdown",
   "id": "828335c8",
   "metadata": {},
   "source": [
    "<h5>Missing values</h5>\n",
    "\n",
    "messing values using *isna()*"
   ]
  },
  {
   "cell_type": "code",
   "execution_count": 166,
   "id": "4d319984",
   "metadata": {},
   "outputs": [
    {
     "data": {
      "text/plain": [
       "Transaction ID    0\n",
       "Date of Travel    0\n",
       "Company           0\n",
       "City              0\n",
       "KM Travelled      0\n",
       "Price Charged     0\n",
       "Cost of Trip      0\n",
       "dtype: int64"
      ]
     },
     "execution_count": 166,
     "metadata": {},
     "output_type": "execute_result"
    }
   ],
   "source": [
    "df_cab.isna().sum()"
   ]
  },
  {
   "cell_type": "code",
   "execution_count": 165,
   "id": "294eb109",
   "metadata": {},
   "outputs": [
    {
     "data": {
      "text/plain": [
       "City          0\n",
       "Population    0\n",
       "Users         0\n",
       "dtype: int64"
      ]
     },
     "execution_count": 165,
     "metadata": {},
     "output_type": "execute_result"
    }
   ],
   "source": [
    "df_city.isna().sum()"
   ]
  },
  {
   "cell_type": "code",
   "execution_count": 168,
   "id": "66a6d33d",
   "metadata": {},
   "outputs": [
    {
     "data": {
      "text/plain": [
       "Customer ID           0\n",
       "Gender                0\n",
       "Age                   0\n",
       "Income (USD/Month)    0\n",
       "dtype: int64"
      ]
     },
     "execution_count": 168,
     "metadata": {},
     "output_type": "execute_result"
    }
   ],
   "source": [
    "df_customer_ID.isna().sum()"
   ]
  },
  {
   "cell_type": "code",
   "execution_count": 169,
   "id": "e5dad7c1",
   "metadata": {},
   "outputs": [
    {
     "data": {
      "text/plain": [
       "Transaction ID    0\n",
       "Customer ID       0\n",
       "Payment_Mode      0\n",
       "dtype: int64"
      ]
     },
     "execution_count": 169,
     "metadata": {},
     "output_type": "execute_result"
    }
   ],
   "source": [
    "df_transaction_ID.isna().sum()"
   ]
  },
  {
   "cell_type": "markdown",
   "id": "4d456886",
   "metadata": {},
   "source": [
    "<h6>we're lucky! there are no missing values </h6>"
   ]
  },
  {
   "cell_type": "markdown",
   "id": "08261f35",
   "metadata": {},
   "source": [
    "<h5>Creating MasterData</h5>"
   ]
  },
  {
   "cell_type": "code",
   "execution_count": 12,
   "id": "c3cfb84a",
   "metadata": {},
   "outputs": [
    {
     "data": {
      "text/html": [
       "<div>\n",
       "<style scoped>\n",
       "    .dataframe tbody tr th:only-of-type {\n",
       "        vertical-align: middle;\n",
       "    }\n",
       "\n",
       "    .dataframe tbody tr th {\n",
       "        vertical-align: top;\n",
       "    }\n",
       "\n",
       "    .dataframe thead th {\n",
       "        text-align: right;\n",
       "    }\n",
       "</style>\n",
       "<table border=\"1\" class=\"dataframe\">\n",
       "  <thead>\n",
       "    <tr style=\"text-align: right;\">\n",
       "      <th></th>\n",
       "      <th>Transaction ID</th>\n",
       "      <th>Date of Travel</th>\n",
       "      <th>Company</th>\n",
       "      <th>City</th>\n",
       "      <th>KM Travelled</th>\n",
       "      <th>Price Charged</th>\n",
       "      <th>Cost of Trip</th>\n",
       "      <th>Customer ID</th>\n",
       "      <th>Payment_Mode</th>\n",
       "    </tr>\n",
       "  </thead>\n",
       "  <tbody>\n",
       "    <tr>\n",
       "      <th>0</th>\n",
       "      <td>10000011</td>\n",
       "      <td>2016-02-06</td>\n",
       "      <td>Pink Cab</td>\n",
       "      <td>ATLANTA GA</td>\n",
       "      <td>30.45</td>\n",
       "      <td>370.95</td>\n",
       "      <td>313.6350</td>\n",
       "      <td>29290</td>\n",
       "      <td>Card</td>\n",
       "    </tr>\n",
       "    <tr>\n",
       "      <th>1</th>\n",
       "      <td>10000012</td>\n",
       "      <td>2016-02-04</td>\n",
       "      <td>Pink Cab</td>\n",
       "      <td>ATLANTA GA</td>\n",
       "      <td>28.62</td>\n",
       "      <td>358.52</td>\n",
       "      <td>334.8540</td>\n",
       "      <td>27703</td>\n",
       "      <td>Card</td>\n",
       "    </tr>\n",
       "    <tr>\n",
       "      <th>2</th>\n",
       "      <td>10000013</td>\n",
       "      <td>2016-01-31</td>\n",
       "      <td>Pink Cab</td>\n",
       "      <td>ATLANTA GA</td>\n",
       "      <td>9.04</td>\n",
       "      <td>125.20</td>\n",
       "      <td>97.6320</td>\n",
       "      <td>28712</td>\n",
       "      <td>Cash</td>\n",
       "    </tr>\n",
       "    <tr>\n",
       "      <th>3</th>\n",
       "      <td>10000014</td>\n",
       "      <td>2016-02-05</td>\n",
       "      <td>Pink Cab</td>\n",
       "      <td>ATLANTA GA</td>\n",
       "      <td>33.17</td>\n",
       "      <td>377.40</td>\n",
       "      <td>351.6020</td>\n",
       "      <td>28020</td>\n",
       "      <td>Cash</td>\n",
       "    </tr>\n",
       "    <tr>\n",
       "      <th>4</th>\n",
       "      <td>10000015</td>\n",
       "      <td>2016-02-01</td>\n",
       "      <td>Pink Cab</td>\n",
       "      <td>ATLANTA GA</td>\n",
       "      <td>8.73</td>\n",
       "      <td>114.62</td>\n",
       "      <td>97.7760</td>\n",
       "      <td>27182</td>\n",
       "      <td>Card</td>\n",
       "    </tr>\n",
       "    <tr>\n",
       "      <th>...</th>\n",
       "      <td>...</td>\n",
       "      <td>...</td>\n",
       "      <td>...</td>\n",
       "      <td>...</td>\n",
       "      <td>...</td>\n",
       "      <td>...</td>\n",
       "      <td>...</td>\n",
       "      <td>...</td>\n",
       "      <td>...</td>\n",
       "    </tr>\n",
       "    <tr>\n",
       "      <th>359387</th>\n",
       "      <td>10440101</td>\n",
       "      <td>2018-02-06</td>\n",
       "      <td>Yellow Cab</td>\n",
       "      <td>WASHINGTON DC</td>\n",
       "      <td>4.80</td>\n",
       "      <td>69.24</td>\n",
       "      <td>63.3600</td>\n",
       "      <td>52392</td>\n",
       "      <td>Cash</td>\n",
       "    </tr>\n",
       "    <tr>\n",
       "      <th>359388</th>\n",
       "      <td>10440104</td>\n",
       "      <td>2018-02-02</td>\n",
       "      <td>Yellow Cab</td>\n",
       "      <td>WASHINGTON DC</td>\n",
       "      <td>8.40</td>\n",
       "      <td>113.75</td>\n",
       "      <td>106.8480</td>\n",
       "      <td>53286</td>\n",
       "      <td>Cash</td>\n",
       "    </tr>\n",
       "    <tr>\n",
       "      <th>359389</th>\n",
       "      <td>10440105</td>\n",
       "      <td>2018-02-03</td>\n",
       "      <td>Yellow Cab</td>\n",
       "      <td>WASHINGTON DC</td>\n",
       "      <td>27.75</td>\n",
       "      <td>437.07</td>\n",
       "      <td>349.6500</td>\n",
       "      <td>52265</td>\n",
       "      <td>Cash</td>\n",
       "    </tr>\n",
       "    <tr>\n",
       "      <th>359390</th>\n",
       "      <td>10440106</td>\n",
       "      <td>2018-02-03</td>\n",
       "      <td>Yellow Cab</td>\n",
       "      <td>WASHINGTON DC</td>\n",
       "      <td>8.80</td>\n",
       "      <td>146.19</td>\n",
       "      <td>114.0480</td>\n",
       "      <td>52175</td>\n",
       "      <td>Card</td>\n",
       "    </tr>\n",
       "    <tr>\n",
       "      <th>359391</th>\n",
       "      <td>10440107</td>\n",
       "      <td>2018-01-31</td>\n",
       "      <td>Yellow Cab</td>\n",
       "      <td>WASHINGTON DC</td>\n",
       "      <td>12.76</td>\n",
       "      <td>191.58</td>\n",
       "      <td>177.6192</td>\n",
       "      <td>52917</td>\n",
       "      <td>Card</td>\n",
       "    </tr>\n",
       "  </tbody>\n",
       "</table>\n",
       "<p>359392 rows × 9 columns</p>\n",
       "</div>"
      ],
      "text/plain": [
       "        Transaction ID Date of Travel     Company           City  \\\n",
       "0             10000011     2016-02-06    Pink Cab     ATLANTA GA   \n",
       "1             10000012     2016-02-04    Pink Cab     ATLANTA GA   \n",
       "2             10000013     2016-01-31    Pink Cab     ATLANTA GA   \n",
       "3             10000014     2016-02-05    Pink Cab     ATLANTA GA   \n",
       "4             10000015     2016-02-01    Pink Cab     ATLANTA GA   \n",
       "...                ...            ...         ...            ...   \n",
       "359387        10440101     2018-02-06  Yellow Cab  WASHINGTON DC   \n",
       "359388        10440104     2018-02-02  Yellow Cab  WASHINGTON DC   \n",
       "359389        10440105     2018-02-03  Yellow Cab  WASHINGTON DC   \n",
       "359390        10440106     2018-02-03  Yellow Cab  WASHINGTON DC   \n",
       "359391        10440107     2018-01-31  Yellow Cab  WASHINGTON DC   \n",
       "\n",
       "        KM Travelled  Price Charged  Cost of Trip  Customer ID Payment_Mode  \n",
       "0              30.45         370.95      313.6350        29290         Card  \n",
       "1              28.62         358.52      334.8540        27703         Card  \n",
       "2               9.04         125.20       97.6320        28712         Cash  \n",
       "3              33.17         377.40      351.6020        28020         Cash  \n",
       "4               8.73         114.62       97.7760        27182         Card  \n",
       "...              ...            ...           ...          ...          ...  \n",
       "359387          4.80          69.24       63.3600        52392         Cash  \n",
       "359388          8.40         113.75      106.8480        53286         Cash  \n",
       "359389         27.75         437.07      349.6500        52265         Cash  \n",
       "359390          8.80         146.19      114.0480        52175         Card  \n",
       "359391         12.76         191.58      177.6192        52917         Card  \n",
       "\n",
       "[359392 rows x 9 columns]"
      ]
     },
     "execution_count": 12,
     "metadata": {},
     "output_type": "execute_result"
    }
   ],
   "source": [
    "#merge df_cab, df_transaction_ID\n",
    "df_cab_transaction_cust = pd.merge(df_cab, df_transaction_ID, on='Transaction ID')\n",
    "\n",
    "df_cab_transaction_cust"
   ]
  },
  {
   "cell_type": "code",
   "execution_count": 13,
   "id": "38d2882f",
   "metadata": {},
   "outputs": [
    {
     "data": {
      "text/html": [
       "<div>\n",
       "<style scoped>\n",
       "    .dataframe tbody tr th:only-of-type {\n",
       "        vertical-align: middle;\n",
       "    }\n",
       "\n",
       "    .dataframe tbody tr th {\n",
       "        vertical-align: top;\n",
       "    }\n",
       "\n",
       "    .dataframe thead th {\n",
       "        text-align: right;\n",
       "    }\n",
       "</style>\n",
       "<table border=\"1\" class=\"dataframe\">\n",
       "  <thead>\n",
       "    <tr style=\"text-align: right;\">\n",
       "      <th></th>\n",
       "      <th>Transaction ID</th>\n",
       "      <th>Date of Travel</th>\n",
       "      <th>Company</th>\n",
       "      <th>City</th>\n",
       "      <th>KM Travelled</th>\n",
       "      <th>Price Charged</th>\n",
       "      <th>Cost of Trip</th>\n",
       "      <th>Customer ID</th>\n",
       "      <th>Payment_Mode</th>\n",
       "      <th>Gender</th>\n",
       "      <th>Age</th>\n",
       "      <th>Income (USD/Month)</th>\n",
       "    </tr>\n",
       "  </thead>\n",
       "  <tbody>\n",
       "    <tr>\n",
       "      <th>0</th>\n",
       "      <td>10000011</td>\n",
       "      <td>2016-02-06</td>\n",
       "      <td>Pink Cab</td>\n",
       "      <td>ATLANTA GA</td>\n",
       "      <td>30.45</td>\n",
       "      <td>370.95</td>\n",
       "      <td>313.6350</td>\n",
       "      <td>29290</td>\n",
       "      <td>Card</td>\n",
       "      <td>Male</td>\n",
       "      <td>28</td>\n",
       "      <td>10813</td>\n",
       "    </tr>\n",
       "    <tr>\n",
       "      <th>1</th>\n",
       "      <td>10351127</td>\n",
       "      <td>2018-08-19</td>\n",
       "      <td>Yellow Cab</td>\n",
       "      <td>ATLANTA GA</td>\n",
       "      <td>26.19</td>\n",
       "      <td>598.70</td>\n",
       "      <td>317.4228</td>\n",
       "      <td>29290</td>\n",
       "      <td>Cash</td>\n",
       "      <td>Male</td>\n",
       "      <td>28</td>\n",
       "      <td>10813</td>\n",
       "    </tr>\n",
       "    <tr>\n",
       "      <th>2</th>\n",
       "      <td>10412921</td>\n",
       "      <td>2018-12-22</td>\n",
       "      <td>Yellow Cab</td>\n",
       "      <td>ATLANTA GA</td>\n",
       "      <td>42.55</td>\n",
       "      <td>792.05</td>\n",
       "      <td>597.4020</td>\n",
       "      <td>29290</td>\n",
       "      <td>Card</td>\n",
       "      <td>Male</td>\n",
       "      <td>28</td>\n",
       "      <td>10813</td>\n",
       "    </tr>\n",
       "    <tr>\n",
       "      <th>3</th>\n",
       "      <td>10000012</td>\n",
       "      <td>2016-02-04</td>\n",
       "      <td>Pink Cab</td>\n",
       "      <td>ATLANTA GA</td>\n",
       "      <td>28.62</td>\n",
       "      <td>358.52</td>\n",
       "      <td>334.8540</td>\n",
       "      <td>27703</td>\n",
       "      <td>Card</td>\n",
       "      <td>Male</td>\n",
       "      <td>27</td>\n",
       "      <td>9237</td>\n",
       "    </tr>\n",
       "    <tr>\n",
       "      <th>4</th>\n",
       "      <td>10320494</td>\n",
       "      <td>2018-05-20</td>\n",
       "      <td>Yellow Cab</td>\n",
       "      <td>ATLANTA GA</td>\n",
       "      <td>36.38</td>\n",
       "      <td>721.10</td>\n",
       "      <td>467.1192</td>\n",
       "      <td>27703</td>\n",
       "      <td>Card</td>\n",
       "      <td>Male</td>\n",
       "      <td>27</td>\n",
       "      <td>9237</td>\n",
       "    </tr>\n",
       "    <tr>\n",
       "      <th>...</th>\n",
       "      <td>...</td>\n",
       "      <td>...</td>\n",
       "      <td>...</td>\n",
       "      <td>...</td>\n",
       "      <td>...</td>\n",
       "      <td>...</td>\n",
       "      <td>...</td>\n",
       "      <td>...</td>\n",
       "      <td>...</td>\n",
       "      <td>...</td>\n",
       "      <td>...</td>\n",
       "      <td>...</td>\n",
       "    </tr>\n",
       "    <tr>\n",
       "      <th>359387</th>\n",
       "      <td>10439790</td>\n",
       "      <td>2018-02-05</td>\n",
       "      <td>Yellow Cab</td>\n",
       "      <td>SEATTLE WA</td>\n",
       "      <td>16.66</td>\n",
       "      <td>261.18</td>\n",
       "      <td>213.9144</td>\n",
       "      <td>38520</td>\n",
       "      <td>Card</td>\n",
       "      <td>Female</td>\n",
       "      <td>42</td>\n",
       "      <td>19417</td>\n",
       "    </tr>\n",
       "    <tr>\n",
       "      <th>359388</th>\n",
       "      <td>10439799</td>\n",
       "      <td>2018-02-01</td>\n",
       "      <td>Yellow Cab</td>\n",
       "      <td>SILICON VALLEY</td>\n",
       "      <td>13.72</td>\n",
       "      <td>277.97</td>\n",
       "      <td>172.8720</td>\n",
       "      <td>12490</td>\n",
       "      <td>Cash</td>\n",
       "      <td>Male</td>\n",
       "      <td>33</td>\n",
       "      <td>18713</td>\n",
       "    </tr>\n",
       "    <tr>\n",
       "      <th>359389</th>\n",
       "      <td>10439838</td>\n",
       "      <td>2018-02-02</td>\n",
       "      <td>Yellow Cab</td>\n",
       "      <td>TUCSON AZ</td>\n",
       "      <td>19.00</td>\n",
       "      <td>303.77</td>\n",
       "      <td>232.5600</td>\n",
       "      <td>41414</td>\n",
       "      <td>Card</td>\n",
       "      <td>Male</td>\n",
       "      <td>38</td>\n",
       "      <td>3960</td>\n",
       "    </tr>\n",
       "    <tr>\n",
       "      <th>359390</th>\n",
       "      <td>10439840</td>\n",
       "      <td>2018-02-04</td>\n",
       "      <td>Yellow Cab</td>\n",
       "      <td>TUCSON AZ</td>\n",
       "      <td>5.60</td>\n",
       "      <td>92.42</td>\n",
       "      <td>70.5600</td>\n",
       "      <td>41677</td>\n",
       "      <td>Cash</td>\n",
       "      <td>Male</td>\n",
       "      <td>23</td>\n",
       "      <td>19454</td>\n",
       "    </tr>\n",
       "    <tr>\n",
       "      <th>359391</th>\n",
       "      <td>10439846</td>\n",
       "      <td>2018-02-02</td>\n",
       "      <td>Yellow Cab</td>\n",
       "      <td>TUCSON AZ</td>\n",
       "      <td>13.30</td>\n",
       "      <td>244.65</td>\n",
       "      <td>180.3480</td>\n",
       "      <td>39761</td>\n",
       "      <td>Card</td>\n",
       "      <td>Female</td>\n",
       "      <td>32</td>\n",
       "      <td>10128</td>\n",
       "    </tr>\n",
       "  </tbody>\n",
       "</table>\n",
       "<p>359392 rows × 12 columns</p>\n",
       "</div>"
      ],
      "text/plain": [
       "        Transaction ID Date of Travel     Company            City  \\\n",
       "0             10000011     2016-02-06    Pink Cab      ATLANTA GA   \n",
       "1             10351127     2018-08-19  Yellow Cab      ATLANTA GA   \n",
       "2             10412921     2018-12-22  Yellow Cab      ATLANTA GA   \n",
       "3             10000012     2016-02-04    Pink Cab      ATLANTA GA   \n",
       "4             10320494     2018-05-20  Yellow Cab      ATLANTA GA   \n",
       "...                ...            ...         ...             ...   \n",
       "359387        10439790     2018-02-05  Yellow Cab      SEATTLE WA   \n",
       "359388        10439799     2018-02-01  Yellow Cab  SILICON VALLEY   \n",
       "359389        10439838     2018-02-02  Yellow Cab       TUCSON AZ   \n",
       "359390        10439840     2018-02-04  Yellow Cab       TUCSON AZ   \n",
       "359391        10439846     2018-02-02  Yellow Cab       TUCSON AZ   \n",
       "\n",
       "        KM Travelled  Price Charged  Cost of Trip  Customer ID Payment_Mode  \\\n",
       "0              30.45         370.95      313.6350        29290         Card   \n",
       "1              26.19         598.70      317.4228        29290         Cash   \n",
       "2              42.55         792.05      597.4020        29290         Card   \n",
       "3              28.62         358.52      334.8540        27703         Card   \n",
       "4              36.38         721.10      467.1192        27703         Card   \n",
       "...              ...            ...           ...          ...          ...   \n",
       "359387         16.66         261.18      213.9144        38520         Card   \n",
       "359388         13.72         277.97      172.8720        12490         Cash   \n",
       "359389         19.00         303.77      232.5600        41414         Card   \n",
       "359390          5.60          92.42       70.5600        41677         Cash   \n",
       "359391         13.30         244.65      180.3480        39761         Card   \n",
       "\n",
       "        Gender  Age  Income (USD/Month)  \n",
       "0         Male   28               10813  \n",
       "1         Male   28               10813  \n",
       "2         Male   28               10813  \n",
       "3         Male   27                9237  \n",
       "4         Male   27                9237  \n",
       "...        ...  ...                 ...  \n",
       "359387  Female   42               19417  \n",
       "359388    Male   33               18713  \n",
       "359389    Male   38                3960  \n",
       "359390    Male   23               19454  \n",
       "359391  Female   32               10128  \n",
       "\n",
       "[359392 rows x 12 columns]"
      ]
     },
     "execution_count": 13,
     "metadata": {},
     "output_type": "execute_result"
    }
   ],
   "source": [
    "#merge df_cab_transaction_cust,df_customer_ID\n",
    "\n",
    "df_cab_transaction_cust = pd.merge(df_cab_transaction_cust,df_customer_ID,on=\"Customer ID\")\n",
    "df_cab_transaction_cust"
   ]
  },
  {
   "cell_type": "code",
   "execution_count": 14,
   "id": "1893c77c",
   "metadata": {},
   "outputs": [
    {
     "data": {
      "text/html": [
       "<div>\n",
       "<style scoped>\n",
       "    .dataframe tbody tr th:only-of-type {\n",
       "        vertical-align: middle;\n",
       "    }\n",
       "\n",
       "    .dataframe tbody tr th {\n",
       "        vertical-align: top;\n",
       "    }\n",
       "\n",
       "    .dataframe thead th {\n",
       "        text-align: right;\n",
       "    }\n",
       "</style>\n",
       "<table border=\"1\" class=\"dataframe\">\n",
       "  <thead>\n",
       "    <tr style=\"text-align: right;\">\n",
       "      <th></th>\n",
       "      <th>Transaction ID</th>\n",
       "      <th>Date of Travel</th>\n",
       "      <th>Company</th>\n",
       "      <th>City</th>\n",
       "      <th>KM Travelled</th>\n",
       "      <th>Price Charged</th>\n",
       "      <th>Cost of Trip</th>\n",
       "      <th>Customer ID</th>\n",
       "      <th>Payment_Mode</th>\n",
       "      <th>Gender</th>\n",
       "      <th>Age</th>\n",
       "      <th>Income (USD/Month)</th>\n",
       "      <th>Population</th>\n",
       "      <th>Users</th>\n",
       "    </tr>\n",
       "  </thead>\n",
       "  <tbody>\n",
       "    <tr>\n",
       "      <th>0</th>\n",
       "      <td>10000011</td>\n",
       "      <td>2016-02-06</td>\n",
       "      <td>Pink Cab</td>\n",
       "      <td>ATLANTA GA</td>\n",
       "      <td>30.45</td>\n",
       "      <td>370.95</td>\n",
       "      <td>313.6350</td>\n",
       "      <td>29290</td>\n",
       "      <td>Card</td>\n",
       "      <td>Male</td>\n",
       "      <td>28</td>\n",
       "      <td>10813</td>\n",
       "      <td>814885</td>\n",
       "      <td>24701</td>\n",
       "    </tr>\n",
       "    <tr>\n",
       "      <th>1</th>\n",
       "      <td>10351127</td>\n",
       "      <td>2018-08-19</td>\n",
       "      <td>Yellow Cab</td>\n",
       "      <td>ATLANTA GA</td>\n",
       "      <td>26.19</td>\n",
       "      <td>598.70</td>\n",
       "      <td>317.4228</td>\n",
       "      <td>29290</td>\n",
       "      <td>Cash</td>\n",
       "      <td>Male</td>\n",
       "      <td>28</td>\n",
       "      <td>10813</td>\n",
       "      <td>814885</td>\n",
       "      <td>24701</td>\n",
       "    </tr>\n",
       "    <tr>\n",
       "      <th>2</th>\n",
       "      <td>10412921</td>\n",
       "      <td>2018-12-22</td>\n",
       "      <td>Yellow Cab</td>\n",
       "      <td>ATLANTA GA</td>\n",
       "      <td>42.55</td>\n",
       "      <td>792.05</td>\n",
       "      <td>597.4020</td>\n",
       "      <td>29290</td>\n",
       "      <td>Card</td>\n",
       "      <td>Male</td>\n",
       "      <td>28</td>\n",
       "      <td>10813</td>\n",
       "      <td>814885</td>\n",
       "      <td>24701</td>\n",
       "    </tr>\n",
       "    <tr>\n",
       "      <th>3</th>\n",
       "      <td>10000012</td>\n",
       "      <td>2016-02-04</td>\n",
       "      <td>Pink Cab</td>\n",
       "      <td>ATLANTA GA</td>\n",
       "      <td>28.62</td>\n",
       "      <td>358.52</td>\n",
       "      <td>334.8540</td>\n",
       "      <td>27703</td>\n",
       "      <td>Card</td>\n",
       "      <td>Male</td>\n",
       "      <td>27</td>\n",
       "      <td>9237</td>\n",
       "      <td>814885</td>\n",
       "      <td>24701</td>\n",
       "    </tr>\n",
       "    <tr>\n",
       "      <th>4</th>\n",
       "      <td>10320494</td>\n",
       "      <td>2018-05-20</td>\n",
       "      <td>Yellow Cab</td>\n",
       "      <td>ATLANTA GA</td>\n",
       "      <td>36.38</td>\n",
       "      <td>721.10</td>\n",
       "      <td>467.1192</td>\n",
       "      <td>27703</td>\n",
       "      <td>Card</td>\n",
       "      <td>Male</td>\n",
       "      <td>27</td>\n",
       "      <td>9237</td>\n",
       "      <td>814885</td>\n",
       "      <td>24701</td>\n",
       "    </tr>\n",
       "    <tr>\n",
       "      <th>...</th>\n",
       "      <td>...</td>\n",
       "      <td>...</td>\n",
       "      <td>...</td>\n",
       "      <td>...</td>\n",
       "      <td>...</td>\n",
       "      <td>...</td>\n",
       "      <td>...</td>\n",
       "      <td>...</td>\n",
       "      <td>...</td>\n",
       "      <td>...</td>\n",
       "      <td>...</td>\n",
       "      <td>...</td>\n",
       "      <td>...</td>\n",
       "      <td>...</td>\n",
       "    </tr>\n",
       "    <tr>\n",
       "      <th>359387</th>\n",
       "      <td>10307228</td>\n",
       "      <td>2018-04-01</td>\n",
       "      <td>Yellow Cab</td>\n",
       "      <td>WASHINGTON DC</td>\n",
       "      <td>38.40</td>\n",
       "      <td>668.93</td>\n",
       "      <td>525.3120</td>\n",
       "      <td>51406</td>\n",
       "      <td>Cash</td>\n",
       "      <td>Female</td>\n",
       "      <td>29</td>\n",
       "      <td>6829</td>\n",
       "      <td>418859</td>\n",
       "      <td>127001</td>\n",
       "    </tr>\n",
       "    <tr>\n",
       "      <th>359388</th>\n",
       "      <td>10319775</td>\n",
       "      <td>2018-05-12</td>\n",
       "      <td>Yellow Cab</td>\n",
       "      <td>WASHINGTON DC</td>\n",
       "      <td>3.57</td>\n",
       "      <td>67.60</td>\n",
       "      <td>44.5536</td>\n",
       "      <td>51406</td>\n",
       "      <td>Cash</td>\n",
       "      <td>Female</td>\n",
       "      <td>29</td>\n",
       "      <td>6829</td>\n",
       "      <td>418859</td>\n",
       "      <td>127001</td>\n",
       "    </tr>\n",
       "    <tr>\n",
       "      <th>359389</th>\n",
       "      <td>10347676</td>\n",
       "      <td>2018-08-04</td>\n",
       "      <td>Yellow Cab</td>\n",
       "      <td>WASHINGTON DC</td>\n",
       "      <td>23.46</td>\n",
       "      <td>331.97</td>\n",
       "      <td>337.8240</td>\n",
       "      <td>51406</td>\n",
       "      <td>Card</td>\n",
       "      <td>Female</td>\n",
       "      <td>29</td>\n",
       "      <td>6829</td>\n",
       "      <td>418859</td>\n",
       "      <td>127001</td>\n",
       "    </tr>\n",
       "    <tr>\n",
       "      <th>359390</th>\n",
       "      <td>10358624</td>\n",
       "      <td>2018-08-31</td>\n",
       "      <td>Yellow Cab</td>\n",
       "      <td>WASHINGTON DC</td>\n",
       "      <td>27.60</td>\n",
       "      <td>358.23</td>\n",
       "      <td>364.3200</td>\n",
       "      <td>51406</td>\n",
       "      <td>Cash</td>\n",
       "      <td>Female</td>\n",
       "      <td>29</td>\n",
       "      <td>6829</td>\n",
       "      <td>418859</td>\n",
       "      <td>127001</td>\n",
       "    </tr>\n",
       "    <tr>\n",
       "      <th>359391</th>\n",
       "      <td>10370709</td>\n",
       "      <td>2018-09-28</td>\n",
       "      <td>Yellow Cab</td>\n",
       "      <td>WASHINGTON DC</td>\n",
       "      <td>34.24</td>\n",
       "      <td>453.11</td>\n",
       "      <td>427.3152</td>\n",
       "      <td>51406</td>\n",
       "      <td>Card</td>\n",
       "      <td>Female</td>\n",
       "      <td>29</td>\n",
       "      <td>6829</td>\n",
       "      <td>418859</td>\n",
       "      <td>127001</td>\n",
       "    </tr>\n",
       "  </tbody>\n",
       "</table>\n",
       "<p>359392 rows × 14 columns</p>\n",
       "</div>"
      ],
      "text/plain": [
       "        Transaction ID Date of Travel     Company           City  \\\n",
       "0             10000011     2016-02-06    Pink Cab     ATLANTA GA   \n",
       "1             10351127     2018-08-19  Yellow Cab     ATLANTA GA   \n",
       "2             10412921     2018-12-22  Yellow Cab     ATLANTA GA   \n",
       "3             10000012     2016-02-04    Pink Cab     ATLANTA GA   \n",
       "4             10320494     2018-05-20  Yellow Cab     ATLANTA GA   \n",
       "...                ...            ...         ...            ...   \n",
       "359387        10307228     2018-04-01  Yellow Cab  WASHINGTON DC   \n",
       "359388        10319775     2018-05-12  Yellow Cab  WASHINGTON DC   \n",
       "359389        10347676     2018-08-04  Yellow Cab  WASHINGTON DC   \n",
       "359390        10358624     2018-08-31  Yellow Cab  WASHINGTON DC   \n",
       "359391        10370709     2018-09-28  Yellow Cab  WASHINGTON DC   \n",
       "\n",
       "        KM Travelled  Price Charged  Cost of Trip  Customer ID Payment_Mode  \\\n",
       "0              30.45         370.95      313.6350        29290         Card   \n",
       "1              26.19         598.70      317.4228        29290         Cash   \n",
       "2              42.55         792.05      597.4020        29290         Card   \n",
       "3              28.62         358.52      334.8540        27703         Card   \n",
       "4              36.38         721.10      467.1192        27703         Card   \n",
       "...              ...            ...           ...          ...          ...   \n",
       "359387         38.40         668.93      525.3120        51406         Cash   \n",
       "359388          3.57          67.60       44.5536        51406         Cash   \n",
       "359389         23.46         331.97      337.8240        51406         Card   \n",
       "359390         27.60         358.23      364.3200        51406         Cash   \n",
       "359391         34.24         453.11      427.3152        51406         Card   \n",
       "\n",
       "        Gender  Age  Income (USD/Month)  Population   Users  \n",
       "0         Male   28               10813      814885   24701  \n",
       "1         Male   28               10813      814885   24701  \n",
       "2         Male   28               10813      814885   24701  \n",
       "3         Male   27                9237      814885   24701  \n",
       "4         Male   27                9237      814885   24701  \n",
       "...        ...  ...                 ...         ...     ...  \n",
       "359387  Female   29                6829      418859  127001  \n",
       "359388  Female   29                6829      418859  127001  \n",
       "359389  Female   29                6829      418859  127001  \n",
       "359390  Female   29                6829      418859  127001  \n",
       "359391  Female   29                6829      418859  127001  \n",
       "\n",
       "[359392 rows x 14 columns]"
      ]
     },
     "execution_count": 14,
     "metadata": {},
     "output_type": "execute_result"
    }
   ],
   "source": [
    "df_cab_transaction_cust_city = pd.merge(df_cab_transaction_cust,df_city,on=\"City\")\n",
    "df_cab_transaction_cust_city"
   ]
  },
  {
   "cell_type": "code",
   "execution_count": 15,
   "id": "e788ab39",
   "metadata": {},
   "outputs": [],
   "source": [
    "df=df_cab_transaction_cust_city\n",
    "df.to_csv('./dataset/DataSets/MasterData.csv')"
   ]
  },
  {
   "cell_type": "code",
   "execution_count": 194,
   "id": "d072742e",
   "metadata": {},
   "outputs": [
    {
     "name": "stdout",
     "output_type": "stream",
     "text": [
      "866080030579\n",
      "2807179773351\n"
     ]
    }
   ],
   "source": [
    " print(df_cab[df_cab['Company']==\"Pink Cab\"]['Transaction ID'].sum())\n",
    " print(df_cab[df_cab['Company']==\"Yellow Cab\"]['Transaction ID'].sum())\n"
   ]
  },
  {
   "cell_type": "code",
   "execution_count": 200,
   "id": "96ba4263",
   "metadata": {},
   "outputs": [
    {
     "data": {
      "image/png": "[encoded data removed]",
      "text/plain": [
       "<Figure size 432x288 with 1 Axes>"
      ]
     },
     "metadata": {
      "needs_background": "light"
     },
     "output_type": "display_data"
    }
   ],
   "source": [
    "df_cab['Company'].value_counts(ascending=True).plot(kind='bar',color=['green', 'blue'], rot=40)\n",
    "plt.xlabel('Cab Company')\n",
    "plt.ylabel('Number of transaction')\n",
    "plt.title('Transactions per Cab')\n",
    "plt.show()"
   ]
  },
  {
   "cell_type": "markdown",
   "id": "9ab61b25",
   "metadata": {},
   "source": [
    "<h6>Conclusion:the number of Transaction for the Yellow Cab is </h6> \n",
    "<h6>3 times higher than the Pink Cab </h6>"
   ]
  },
  {
   "cell_type": "code",
   "execution_count": 24,
   "id": "88b8d52a",
   "metadata": {},
   "outputs": [
    {
     "data": {
      "text/plain": [
       "<AxesSubplot:title={'center':' Transactions per city for each company'}, xlabel='Company', ylabel='count'>"
      ]
     },
     "execution_count": 24,
     "metadata": {},
     "output_type": "execute_result"
    },
    {
     "data": {
      "image/png": "[encoded data removed]",
      "text/plain": [
       "<Figure size 1800x720 with 1 Axes>"
      ]
     },
     "metadata": {},
     "output_type": "display_data"
    }
   ],
   "source": [
    "f = plt.figure(figsize=(25, 10))\n",
    "\n",
    "f.add_subplot(1,2,1)\n",
    "plt.title(\" Transactions per city for each company\")\n",
    "sns.set_style(\"whitegrid\")\n",
    "sns.countplot(x=\"Company\", hue='City',data=df_cab, orient='h', palette='rainbow')\n"
   ]
  },
  {
   "cell_type": "markdown",
   "id": "cb834b11",
   "metadata": {},
   "source": [
    "<h6>The presence of the yellow cab  in cites  across the United States dominates  </h6>\n",
    "<h6>The presence of the pink one</h6>"
   ]
  },
  {
   "cell_type": "markdown",
   "id": "8b4687ab",
   "metadata": {},
   "source": [
    "<h6>KM Travelled </h6>"
   ]
  },
  {
   "cell_type": "code",
   "execution_count": 62,
   "id": "d2f952c9",
   "metadata": {},
   "outputs": [
    {
     "data": {
      "text/plain": [
       "<AxesSubplot:title={'center':'KM travelled by each company'}, xlabel='KM Travelled', ylabel='Count'>"
      ]
     },
     "execution_count": 62,
     "metadata": {},
     "output_type": "execute_result"
    },
    {
     "data": {
      "image/png": "[encoded data removed]",
      "text/plain": [
       "<Figure size 432x288 with 1 Axes>"
      ]
     },
     "metadata": {},
     "output_type": "display_data"
    }
   ],
   "source": [
    "plt.title(\"KM travelled by each company\")\n",
    "sns.histplot(x='KM Travelled',hue=\"Company\", data=df_cab, multiple='dodge', palette=[\"#d40404\",\"#ffdd00\"],bins=20 )"
   ]
  },
  {
   "cell_type": "markdown",
   "id": "8d22e71d",
   "metadata": {},
   "source": [
    "<h6>Activity and growth over years</h6>\n",
    "\n"
   ]
  },
  {
   "cell_type": "code",
   "execution_count": 43,
   "id": "355eb9ba",
   "metadata": {},
   "outputs": [],
   "source": [
    "df_cab_sorted = df_cab.sort_values(by=\"Date of Travel\")"
   ]
  },
  {
   "cell_type": "code",
   "execution_count": 44,
   "id": "e59725f5",
   "metadata": {},
   "outputs": [],
   "source": [
    "df_cab_sorted_company =df_cab_sorted.groupby('Company')"
   ]
  },
  {
   "cell_type": "code",
   "execution_count": 51,
   "id": "7261c6e7",
   "metadata": {},
   "outputs": [],
   "source": [
    "df_pink=df_cab_sorted_company.get_group(\"Pink Cab\")"
   ]
  },
  {
   "cell_type": "code",
   "execution_count": 52,
   "id": "3f73e03b",
   "metadata": {},
   "outputs": [
    {
     "name": "stderr",
     "output_type": "stream",
     "text": [
      "/tmp/ipykernel_5293/3132389828.py:1: SettingWithCopyWarning: \n",
      "A value is trying to be set on a copy of a slice from a DataFrame.\n",
      "Try using .loc[row_indexer,col_indexer] = value instead\n",
      "\n",
      "See the caveats in the documentation: https://pandas.pydata.org/pandas-docs/stable/user_guide/indexing.html#returning-a-view-versus-a-copy\n",
      "  df_pink['Date of Travel']  = df_pink['Date of Travel'].apply(lambda x: x.year)\n"
     ]
    }
   ],
   "source": [
    "df_pink['Date of Travel']  = df_pink['Date of Travel'].apply(lambda x: x.year)\n"
   ]
  },
  {
   "cell_type": "code",
   "execution_count": 53,
   "id": "58a51bab",
   "metadata": {},
   "outputs": [
    {
     "data": {
      "text/plain": [
       "<AxesSubplot:title={'center':'Activity over years for Pink cab'}, xlabel='Date of Travel', ylabel='Count'>"
      ]
     },
     "execution_count": 53,
     "metadata": {},
     "output_type": "execute_result"
    },
    {
     "data": {
      "image/png": "[encoded data removed]",
      "text/plain": [
       "<Figure size 576x432 with 1 Axes>"
      ]
     },
     "metadata": {},
     "output_type": "display_data"
    }
   ],
   "source": [
    "plt.figure(figsize=(8,6))\n",
    "plt.title('Activity over years for Pink cab')\n",
    "sns.histplot( x='Date of Travel', hue='Company', data=df_pink, multiple='dodge')"
   ]
  },
  {
   "cell_type": "code",
   "execution_count": 55,
   "id": "6d745034",
   "metadata": {},
   "outputs": [
    {
     "name": "stderr",
     "output_type": "stream",
     "text": [
      "/tmp/ipykernel_5293/541559950.py:2: SettingWithCopyWarning: \n",
      "A value is trying to be set on a copy of a slice from a DataFrame.\n",
      "Try using .loc[row_indexer,col_indexer] = value instead\n",
      "\n",
      "See the caveats in the documentation: https://pandas.pydata.org/pandas-docs/stable/user_guide/indexing.html#returning-a-view-versus-a-copy\n",
      "  df_yellow['Date of Travel']  = df_yellow['Date of Travel'].apply(lambda x: x.year)\n"
     ]
    },
    {
     "data": {
      "text/plain": [
       "<AxesSubplot:title={'center':'Activity over years for Yellow cab'}, xlabel='Date of Travel', ylabel='Count'>"
      ]
     },
     "execution_count": 55,
     "metadata": {},
     "output_type": "execute_result"
    },
    {
     "data": {
      "image/png": "[encoded data removed]",
      "text/plain": [
       "<Figure size 576x432 with 1 Axes>"
      ]
     },
     "metadata": {},
     "output_type": "display_data"
    }
   ],
   "source": [
    "df_yellow=df_cab_sorted_company.get_group(\"Yellow Cab\")\n",
    "df_yellow['Date of Travel']  = df_yellow['Date of Travel'].apply(lambda x: x.year)\n",
    "plt.figure(figsize=(8,6))\n",
    "plt.title('Activity over years for Yellow cab')\n",
    "sns.histplot( x='Date of Travel', hue='Company', data=df_yellow, multiple='dodge')\n"
   ]
  },
  {
   "cell_type": "markdown",
   "id": "5d7e9dde",
   "metadata": {},
   "source": [
    "<h6>conclusion:Activity and growth over years</h6>\n",
    "<br></br>\n",
    "they have  the same growth rate. the activity shown in  2019 it's just for the first month of the year.<br><br></br>However the activity per year for the Yellow Cab is higer than the activity for the Pink Cab.<br></br> For exapmle in <strong>2016</strong> :<br></br>\n",
    "<strong>70.000 transactions Yellow cab<br></br>\n",
    "22.000 transactions Pink cab</strong>"
   ]
  },
  {
   "cell_type": "markdown",
   "id": "a0c5660a",
   "metadata": {},
   "source": [
    "<h6>Profit</h6>"
   ]
  },
  {
   "cell_type": "code",
   "execution_count": 77,
   "id": "56e641cd",
   "metadata": {},
   "outputs": [],
   "source": [
    "#calculate profit\n",
    "company_profit = pd.DataFrame(df_cab['Price Charged']-df_cab['Cost of Trip'], columns=[\"Profit\"])\n",
    "#add company_name to the profit\n",
    "company_profit = pd.concat([df_cab['Company'],company_profit], axis=1,names=['Company', 'Profit'])\n"
   ]
  },
  {
   "cell_type": "code",
   "execution_count": 103,
   "id": "cb5f186c",
   "metadata": {},
   "outputs": [],
   "source": [
    "pink_profit=company_profit.groupby('Company').sum()\n",
    "profit = pink_profit['Profit']"
   ]
  },
  {
   "cell_type": "code",
   "execution_count": 97,
   "id": "e5986925",
   "metadata": {},
   "outputs": [
    {
     "data": {
      "image/png": "[encoded data removed]",
      "text/plain": [
       "<Figure size 432x288 with 1 Axes>"
      ]
     },
     "metadata": {},
     "output_type": "display_data"
    }
   ],
   "source": [
    "#pink_profit.get_group('Pink Cab')\n",
    "plt.title('Profit distribution', fontweight=\"bold\")\n",
    "plt.pie(profit, labels = ['Pink Cab','yellow Cab' ], autopct='%.1f')\n",
    "plt.show()"
   ]
  },
  {
   "cell_type": "markdown",
   "id": "12b9c7c3",
   "metadata": {},
   "source": [
    "<h6>Conclusion: The yellow cab releases about 90% of the total profit </h6>"
   ]
  },
  {
   "cell_type": "markdown",
   "id": "23e84a60",
   "metadata": {},
   "source": [
    "<h6>Profit Per Year</h6>"
   ]
  },
  {
   "cell_type": "code",
   "execution_count": 9,
   "id": "e5f2059d",
   "metadata": {},
   "outputs": [],
   "source": [
    "company_profit_year = pd.DataFrame(df_cab['Price Charged']-df_cab['Cost of Trip'], columns=[\"Profit\"])\n",
    "company_profit_year = pd.concat([df_cab['Company'],company_profit_year], axis=1,names=[ 'Company', 'Profit'])\n"
   ]
  },
  {
   "cell_type": "code",
   "execution_count": 10,
   "id": "c9c755e6",
   "metadata": {},
   "outputs": [],
   "source": [
    "company_profit_year = pd.concat([df_cab['Date of Travel'],company_profit_year], axis=1)"
   ]
  },
  {
   "cell_type": "code",
   "execution_count": 11,
   "id": "7037af63",
   "metadata": {},
   "outputs": [],
   "source": [
    "company_profit_year['Date of Travel']=company_profit_year['Date of Travel'].apply(lambda x :x.year)"
   ]
  },
  {
   "cell_type": "code",
   "execution_count": 28,
   "id": "534ec93b",
   "metadata": {},
   "outputs": [],
   "source": [
    "pinkprofit=company_profit_year[company_profit_year.Company=='Pink Cab'].groupby(company_profit_year['Date of Travel']).Profit.mean()"
   ]
  },
  {
   "cell_type": "code",
   "execution_count": 30,
   "id": "03ad1197",
   "metadata": {},
   "outputs": [],
   "source": [
    "yellowprofit=company_profit_year[company_profit_year.Company=='Yellow Cab'].groupby(company_profit_year['Date of Travel']).Profit.mean()"
   ]
  },
  {
   "cell_type": "code",
   "execution_count": 29,
   "id": "1a5c70a1",
   "metadata": {},
   "outputs": [
    {
     "data": {
      "text/plain": [
       "Date of Travel\n",
       "2016    63.864163\n",
       "2017    66.459466\n",
       "2018    56.538648\n",
       "2019    74.704456\n",
       "Name: Profit, dtype: float64"
      ]
     },
     "execution_count": 29,
     "metadata": {},
     "output_type": "execute_result"
    }
   ],
   "source": [
    "pinkprofit"
   ]
  },
  {
   "cell_type": "code",
   "execution_count": 31,
   "id": "30ac0cee",
   "metadata": {},
   "outputs": [
    {
     "data": {
      "text/plain": [
       "Date of Travel\n",
       "2016    171.379921\n",
       "2017    169.083129\n",
       "2018    145.837970\n",
       "2019    134.707558\n",
       "Name: Profit, dtype: float64"
      ]
     },
     "execution_count": 31,
     "metadata": {},
     "output_type": "execute_result"
    }
   ],
   "source": [
    "yellowprofit"
   ]
  },
  {
   "cell_type": "code",
   "execution_count": 32,
   "id": "786eb5c1",
   "metadata": {},
   "outputs": [],
   "source": [
    "df = pd.DataFrame({'year': [2016, 2017, 2018, 2019],\n",
    "                   'Pink Cab': [63.864163, 66.459466, 56.538648, 74.704456],\n",
    "                   'Yellow Cab': [171.379921, 169.083129, 145.837970,134.707558 ]})"
   ]
  },
  {
   "cell_type": "code",
   "execution_count": 37,
   "id": "c89b0f07",
   "metadata": {},
   "outputs": [
    {
     "data": {
      "text/plain": [
       "Text(0.5, 1.0, 'Profit Per Year')"
      ]
     },
     "execution_count": 37,
     "metadata": {},
     "output_type": "execute_result"
    },
    {
     "data": {
      "image/png": "[encoded data removed]",
      "text/plain": [
       "<Figure size 432x288 with 1 Axes>"
      ]
     },
     "metadata": {},
     "output_type": "display_data"
    }
   ],
   "source": [
    "#set seaborn plotting aesthetics\n",
    "sns.set(style='whitegrid')\n",
    "#create stacked bar chart\n",
    "df.set_index('year').plot(kind='bar', stacked=True, color=['Pink', 'yellow'])\n",
    "plt.title('Profit Per Year', fontsize=16)\n"
   ]
  },
  {
   "cell_type": "markdown",
   "id": "26d53034",
   "metadata": {},
   "source": [
    "<h6>The YearWise profit confirms that the yellow cab is the most</h6>\n",
    "<h6> profitable company in the Cub industry </h6>"
   ]
  },
  {
   "cell_type": "markdown",
   "id": "5f479c3c",
   "metadata": {},
   "source": [
    "<h6>let's look at the attribute of clients segmentation</h6>"
   ]
  },
  {
   "cell_type": "code",
   "execution_count": 71,
   "id": "266f8459",
   "metadata": {},
   "outputs": [
    {
     "data": {
      "image/png": "[encoded data removed]",
      "text/plain": [
       "<Figure size 1080x216 with 2 Axes>"
      ]
     },
     "metadata": {},
     "output_type": "display_data"
    }
   ],
   "source": [
    "# create a custom table for genders\n",
    "gender_table = df_cab_transaction_cust[[\"Company\",\"Gender\",\"Customer ID\"]]\n",
    "gender_table = gender_table.drop_duplicates(keep=\"first\")\n",
    "\n",
    "# plot\n",
    "f = plt.figure(figsize=(15, 3))\n",
    "\n",
    "# gender distribution: Pink Cab\n",
    "f.add_subplot(1, 3, 2)\n",
    "\n",
    "data = gender_table[\"Gender\"].loc[gender_table['Company'] == \"Pink Cab\"]\n",
    "data = pd.DataFrame(data, columns = [\"Gender\"])\n",
    "data = data.groupby(by=\"Gender\").size()\n",
    "\n",
    "labels = gender_table[\"Gender\"].drop_duplicates(keep=\"first\")\n",
    "\n",
    "plt.title(\"Gender Distribution: Pink Cab\", fontweight=\"bold\")\n",
    "plt.pie(data, labels = labels, autopct='%.1f')\n",
    "f.add_subplot(1, 3, 3)\n",
    "\n",
    "# gender distribution: Yellow Cab\n",
    "data = gender_table[\"Gender\"].loc[gender_table['Company'] == \"Yellow Cab\"]\n",
    "data = pd.DataFrame(data, columns = [\"Gender\"])\n",
    "data = data.groupby(by=\"Gender\").size()\n",
    "\n",
    "labels = gender_table[\"Gender\"].drop_duplicates(keep=\"first\")\n",
    "\n",
    "plt.title(\"Gender Distribution: Yellow Cab\", fontweight=\"bold\")\n",
    "plt.pie(data, labels = labels, autopct='%.1f')\n",
    "plt.show()"
   ]
  },
  {
   "cell_type": "markdown",
   "id": "0a797573",
   "metadata": {},
   "source": [
    "<h6>conclusion</h6>\n",
    "\n",
    "Female Gender is higer than the males for both companies\n",
    "\n"
   ]
  },
  {
   "cell_type": "code",
   "execution_count": 51,
   "id": "090c5d7f",
   "metadata": {},
   "outputs": [],
   "source": [
    "df_cab_transaction_cust['Profit'] = df_cab_transaction_cust['Price Charged'] - df_cab_transaction_cust['Cost of Trip']\n"
   ]
  },
  {
   "cell_type": "code",
   "execution_count": 65,
   "id": "44e8eb8c",
   "metadata": {},
   "outputs": [],
   "source": [
    "yellowprofit_gender=df_cab_transaction_cust[df_cab_transaction_cust.Company=='Yellow Cab'].groupby(df_cab_transaction_cust['Gender']).Profit.mean()"
   ]
  },
  {
   "cell_type": "code",
   "execution_count": 66,
   "id": "ddcd4b14",
   "metadata": {},
   "outputs": [
    {
     "data": {
      "text/plain": [
       "Gender\n",
       "Female    156.305325\n",
       "Male      163.150948\n",
       "Name: Profit, dtype: float64"
      ]
     },
     "execution_count": 66,
     "metadata": {},
     "output_type": "execute_result"
    }
   ],
   "source": [
    "yellowprofit_gender"
   ]
  },
  {
   "cell_type": "code",
   "execution_count": 68,
   "id": "6e16f26d",
   "metadata": {},
   "outputs": [
    {
     "data": {
      "text/plain": [
       "Gender\n",
       "Female    62.180701\n",
       "Male      63.026310\n",
       "Name: Profit, dtype: float64"
      ]
     },
     "execution_count": 68,
     "metadata": {},
     "output_type": "execute_result"
    }
   ],
   "source": [
    "pinkprofit_gender_age=df_cab_transaction_cust[df_cab_transaction_cust.Company=='Pink Cab'].groupby(df_cab_transaction_cust['Gender']).Profit.mean()\n",
    "pinkprofit_gender"
   ]
  },
  {
   "cell_type": "markdown",
   "id": "abf2907f",
   "metadata": {},
   "source": [
    "<h6>conclusion</h6>\n",
    "\n",
    "however the profit made by males is little bit higher than that made by man"
   ]
  },
  {
   "cell_type": "code",
   "execution_count": 74,
   "id": "cd0f1901",
   "metadata": {},
   "outputs": [
    {
     "data": {
      "text/plain": [
       "array([28, 27, 53, 23, 33, 25, 19, 57, 20, 63, 58, 29, 38, 31, 40, 22, 18,\n",
       "       34, 21, 24, 44, 30, 26, 46, 62, 47, 43, 32, 60, 52, 51, 48, 39, 45,\n",
       "       61, 54, 37, 42, 41, 35, 36, 64, 55, 56, 59, 65, 50, 49])"
      ]
     },
     "execution_count": 74,
     "metadata": {},
     "output_type": "execute_result"
    }
   ],
   "source": [
    "df_cab_transaction_cust['Age'].unique()"
   ]
  },
  {
   "cell_type": "code",
   "execution_count": 90,
   "id": "fb77d044",
   "metadata": {},
   "outputs": [
    {
     "data": {
      "text/plain": [
       "<AxesSubplot:title={'center':'Age of customers'}, xlabel='Age', ylabel='Count'>"
      ]
     },
     "execution_count": 90,
     "metadata": {},
     "output_type": "execute_result"
    },
    {
     "data": {
      "image/png": "[encoded data removed]",
      "text/plain": [
       "<Figure size 720x720 with 1 Axes>"
      ]
     },
     "metadata": {},
     "output_type": "display_data"
    }
   ],
   "source": [
    "age_table = df_cab_transaction_cust[[\"Company\",\"Age\",\"Customer ID\"]]\n",
    "age_table = age_table.drop_duplicates(keep=\"first\")\n",
    "\n",
    "# plot\n",
    "plt.figure(figsize=(10,10))\n",
    "plt.title(\"Age of customers\", fontweight=\"bold\")\n",
    "sns.set_style(\"whitegrid\")\n",
    "sns.histplot(data=age_table, x='Age', hue='Company', palette='rainbow', multiple='dodge',bins=20)"
   ]
  },
  {
   "cell_type": "markdown",
   "id": "b03f1a35",
   "metadata": {},
   "source": [
    "<h6>This graph shows the distribution of customers age :the bigest category is </h6>\n",
    "<h6>between 18 and 39 years old.</h6>\n",
    "<h6>we have also a considreable number of clients with an age range between 40 and 65 </h6>"
   ]
  },
  {
   "cell_type": "code",
   "execution_count": 80,
   "id": "08336c98",
   "metadata": {},
   "outputs": [
    {
     "data": {
      "text/plain": [
       "<AxesSubplot:title={'center':'Total Transactions by Payment Mode'}, xlabel='Company', ylabel='count'>"
      ]
     },
     "execution_count": 80,
     "metadata": {},
     "output_type": "execute_result"
    },
    {
     "data": {
      "image/png": "[encoded data removed]",
      "text/plain": [
       "<Figure size 432x288 with 1 Axes>"
      ]
     },
     "metadata": {},
     "output_type": "display_data"
    }
   ],
   "source": [
    "\n",
    "plt.title(\"Total Transactions by Payment Mode\")\n",
    "sns.set_style(\"whitegrid\")\n",
    "sns.countplot(x=\"Company\", hue=\"Payment_Mode\", data=df_cab_transaction_cust, orient=\"h\", palette=\"rainbow\")"
   ]
  },
  {
   "cell_type": "markdown",
   "id": "960a6a05",
   "metadata": {},
   "source": [
    "<h6>The most used mode of payment for both companies is card</h6>"
   ]
  }
 ],
 "metadata": {
  "kernelspec": {
   "display_name": "Python 3 (ipykernel)",
   "language": "python",
   "name": "python3"
  },
  "language_info": {
   "codemirror_mode": {
    "name": "ipython",
    "version": 3
   },
   "file_extension": ".py",
   "mimetype": "text/x-python",
   "name": "python",
   "nbconvert_exporter": "python",
   "pygments_lexer": "ipython3",
   "version": "3.8.10"
  }
 },
 "nbformat": 4,
 "nbformat_minor": 5
}
